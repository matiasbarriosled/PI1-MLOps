{
 "cells": [
  {
   "cell_type": "code",
   "execution_count": 3,
   "metadata": {},
   "outputs": [],
   "source": [
    "import pandas as pd\n",
    "import seaborn as sns\n",
    "import matplotlib.pyplot as plt\n",
    "import scipy.stats as stats"
   ]
  },
  {
   "cell_type": "code",
   "execution_count": 2,
   "metadata": {},
   "outputs": [],
   "source": [
    "items = pd.read_parquet('../etl/datos/items.parquet')"
   ]
  },
  {
   "cell_type": "code",
   "execution_count": 7,
   "metadata": {},
   "outputs": [],
   "source": [
    "games = pd.read_parquet('../etl/datos/games.parquet')"
   ]
  },
  {
   "cell_type": "markdown",
   "metadata": {},
   "source": [
    "**----------------------------------------------------------------items----------------------------------------------------------------**\n",
    "* obtenemos un vista general de los datos con describe()"
   ]
  },
  {
   "cell_type": "code",
   "execution_count": 15,
   "metadata": {},
   "outputs": [
    {
     "data": {
      "text/html": [
       "<div>\n",
       "<style scoped>\n",
       "    .dataframe tbody tr th:only-of-type {\n",
       "        vertical-align: middle;\n",
       "    }\n",
       "\n",
       "    .dataframe tbody tr th {\n",
       "        vertical-align: top;\n",
       "    }\n",
       "\n",
       "    .dataframe thead th {\n",
       "        text-align: right;\n",
       "    }\n",
       "</style>\n",
       "<table border=\"1\" class=\"dataframe\">\n",
       "  <thead>\n",
       "    <tr style=\"text-align: right;\">\n",
       "      <th></th>\n",
       "      <th>user_id</th>\n",
       "      <th>item_id</th>\n",
       "      <th>item_name</th>\n",
       "      <th>playtime_forever</th>\n",
       "      <th>playtime_2weeks</th>\n",
       "    </tr>\n",
       "  </thead>\n",
       "  <tbody>\n",
       "    <tr>\n",
       "      <th>count</th>\n",
       "      <td>3285246</td>\n",
       "      <td>3.285246e+06</td>\n",
       "      <td>3285246</td>\n",
       "      <td>3.285246e+06</td>\n",
       "      <td>3.285246e+06</td>\n",
       "    </tr>\n",
       "    <tr>\n",
       "      <th>unique</th>\n",
       "      <td>68403</td>\n",
       "      <td>NaN</td>\n",
       "      <td>10024</td>\n",
       "      <td>NaN</td>\n",
       "      <td>NaN</td>\n",
       "    </tr>\n",
       "    <tr>\n",
       "      <th>top</th>\n",
       "      <td>chidvd</td>\n",
       "      <td>NaN</td>\n",
       "      <td>Counter-Strike: Global Offensive</td>\n",
       "      <td>NaN</td>\n",
       "      <td>NaN</td>\n",
       "    </tr>\n",
       "    <tr>\n",
       "      <th>freq</th>\n",
       "      <td>3475</td>\n",
       "      <td>NaN</td>\n",
       "      <td>43279</td>\n",
       "      <td>NaN</td>\n",
       "      <td>NaN</td>\n",
       "    </tr>\n",
       "    <tr>\n",
       "      <th>mean</th>\n",
       "      <td>NaN</td>\n",
       "      <td>1.772373e+05</td>\n",
       "      <td>NaN</td>\n",
       "      <td>1.555251e+03</td>\n",
       "      <td>1.428156e+01</td>\n",
       "    </tr>\n",
       "    <tr>\n",
       "      <th>std</th>\n",
       "      <td>NaN</td>\n",
       "      <td>1.266741e+05</td>\n",
       "      <td>NaN</td>\n",
       "      <td>6.721032e+03</td>\n",
       "      <td>1.756221e+02</td>\n",
       "    </tr>\n",
       "    <tr>\n",
       "      <th>min</th>\n",
       "      <td>NaN</td>\n",
       "      <td>1.000000e+01</td>\n",
       "      <td>NaN</td>\n",
       "      <td>1.000000e+00</td>\n",
       "      <td>0.000000e+00</td>\n",
       "    </tr>\n",
       "    <tr>\n",
       "      <th>25%</th>\n",
       "      <td>NaN</td>\n",
       "      <td>3.912000e+04</td>\n",
       "      <td>NaN</td>\n",
       "      <td>4.400000e+01</td>\n",
       "      <td>0.000000e+00</td>\n",
       "    </tr>\n",
       "    <tr>\n",
       "      <th>50%</th>\n",
       "      <td>NaN</td>\n",
       "      <td>2.149500e+05</td>\n",
       "      <td>NaN</td>\n",
       "      <td>2.050000e+02</td>\n",
       "      <td>0.000000e+00</td>\n",
       "    </tr>\n",
       "    <tr>\n",
       "      <th>75%</th>\n",
       "      <td>NaN</td>\n",
       "      <td>2.630600e+05</td>\n",
       "      <td>NaN</td>\n",
       "      <td>8.080000e+02</td>\n",
       "      <td>0.000000e+00</td>\n",
       "    </tr>\n",
       "    <tr>\n",
       "      <th>max</th>\n",
       "      <td>NaN</td>\n",
       "      <td>5.286600e+05</td>\n",
       "      <td>NaN</td>\n",
       "      <td>6.427730e+05</td>\n",
       "      <td>1.996700e+04</td>\n",
       "    </tr>\n",
       "  </tbody>\n",
       "</table>\n",
       "</div>"
      ],
      "text/plain": [
       "        user_id       item_id                         item_name  \\\n",
       "count   3285246  3.285246e+06                           3285246   \n",
       "unique    68403           NaN                             10024   \n",
       "top      chidvd           NaN  Counter-Strike: Global Offensive   \n",
       "freq       3475           NaN                             43279   \n",
       "mean        NaN  1.772373e+05                               NaN   \n",
       "std         NaN  1.266741e+05                               NaN   \n",
       "min         NaN  1.000000e+01                               NaN   \n",
       "25%         NaN  3.912000e+04                               NaN   \n",
       "50%         NaN  2.149500e+05                               NaN   \n",
       "75%         NaN  2.630600e+05                               NaN   \n",
       "max         NaN  5.286600e+05                               NaN   \n",
       "\n",
       "        playtime_forever  playtime_2weeks  \n",
       "count       3.285246e+06     3.285246e+06  \n",
       "unique               NaN              NaN  \n",
       "top                  NaN              NaN  \n",
       "freq                 NaN              NaN  \n",
       "mean        1.555251e+03     1.428156e+01  \n",
       "std         6.721032e+03     1.756221e+02  \n",
       "min         1.000000e+00     0.000000e+00  \n",
       "25%         4.400000e+01     0.000000e+00  \n",
       "50%         2.050000e+02     0.000000e+00  \n",
       "75%         8.080000e+02     0.000000e+00  \n",
       "max         6.427730e+05     1.996700e+04  "
      ]
     },
     "execution_count": 15,
     "metadata": {},
     "output_type": "execute_result"
    }
   ],
   "source": [
    "items.describe(include='all')"
   ]
  },
  {
   "cell_type": "code",
   "execution_count": 7,
   "metadata": {},
   "outputs": [
    {
     "data": {
      "text/html": [
       "<div>\n",
       "<style scoped>\n",
       "    .dataframe tbody tr th:only-of-type {\n",
       "        vertical-align: middle;\n",
       "    }\n",
       "\n",
       "    .dataframe tbody tr th {\n",
       "        vertical-align: top;\n",
       "    }\n",
       "\n",
       "    .dataframe thead th {\n",
       "        text-align: right;\n",
       "    }\n",
       "</style>\n",
       "<table border=\"1\" class=\"dataframe\">\n",
       "  <thead>\n",
       "    <tr style=\"text-align: right;\">\n",
       "      <th></th>\n",
       "      <th>user_id</th>\n",
       "      <th>item_id</th>\n",
       "      <th>item_name</th>\n",
       "      <th>playtime_forever</th>\n",
       "      <th>playtime_2weeks</th>\n",
       "    </tr>\n",
       "  </thead>\n",
       "  <tbody>\n",
       "    <tr>\n",
       "      <th>0</th>\n",
       "      <td>76561197970982479</td>\n",
       "      <td>10</td>\n",
       "      <td>Counter-Strike</td>\n",
       "      <td>6.0</td>\n",
       "      <td>0.0</td>\n",
       "    </tr>\n",
       "    <tr>\n",
       "      <th>1</th>\n",
       "      <td>76561197970982479</td>\n",
       "      <td>30</td>\n",
       "      <td>Day of Defeat</td>\n",
       "      <td>7.0</td>\n",
       "      <td>0.0</td>\n",
       "    </tr>\n",
       "    <tr>\n",
       "      <th>2</th>\n",
       "      <td>76561197970982479</td>\n",
       "      <td>300</td>\n",
       "      <td>Day of Defeat: Source</td>\n",
       "      <td>4733.0</td>\n",
       "      <td>0.0</td>\n",
       "    </tr>\n",
       "    <tr>\n",
       "      <th>3</th>\n",
       "      <td>76561197970982479</td>\n",
       "      <td>240</td>\n",
       "      <td>Counter-Strike: Source</td>\n",
       "      <td>1853.0</td>\n",
       "      <td>0.0</td>\n",
       "    </tr>\n",
       "    <tr>\n",
       "      <th>4</th>\n",
       "      <td>76561197970982479</td>\n",
       "      <td>3830</td>\n",
       "      <td>Psychonauts</td>\n",
       "      <td>333.0</td>\n",
       "      <td>0.0</td>\n",
       "    </tr>\n",
       "  </tbody>\n",
       "</table>\n",
       "</div>"
      ],
      "text/plain": [
       "             user_id  item_id               item_name  playtime_forever  \\\n",
       "0  76561197970982479       10          Counter-Strike               6.0   \n",
       "1  76561197970982479       30           Day of Defeat               7.0   \n",
       "2  76561197970982479      300   Day of Defeat: Source            4733.0   \n",
       "3  76561197970982479      240  Counter-Strike: Source            1853.0   \n",
       "4  76561197970982479     3830             Psychonauts             333.0   \n",
       "\n",
       "   playtime_2weeks  \n",
       "0              0.0  \n",
       "1              0.0  \n",
       "2              0.0  \n",
       "3              0.0  \n",
       "4              0.0  "
      ]
     },
     "execution_count": 7,
     "metadata": {},
     "output_type": "execute_result"
    }
   ],
   "source": [
    "items.head()"
   ]
  },
  {
   "cell_type": "markdown",
   "metadata": {},
   "source": [
    "*¿cuales son los juegos que tienen mas presencia entre los usuarios?*\n",
    "+ cuales son los mas jugados de todos, de los miles de juegos que hay se extrae un top20"
   ]
  },
  {
   "cell_type": "code",
   "execution_count": 8,
   "metadata": {},
   "outputs": [],
   "source": [
    "min_jugados = items.groupby('item_name')['playtime_forever'].sum()\n",
    "top20 = min_jugados.sort_values(ascending=False).head(20)"
   ]
  },
  {
   "cell_type": "code",
   "execution_count": 9,
   "metadata": {},
   "outputs": [
    {
     "data": {
      "image/png": "[encoded data removed]",
      "text/plain": [
       "<Figure size 1400x1000 with 1 Axes>"
      ]
     },
     "metadata": {},
     "output_type": "display_data"
    }
   ],
   "source": [
    "# *ajusto el tamaño del grafico a una medida legible desde mi monitor\n",
    "plt.figure(figsize=(14, 10)).set_facecolor('lightgrey')\n",
    "top20.plot(kind='bar', color='lightblue', edgecolor='black')\n",
    "plt.xlabel('Juegos')\n",
    "plt.ylabel('Tiempo de juego total (horas)')\n",
    "plt.title('Top 10 juegos que tienen mas tiempo jugado')\n",
    "#rotamos un poco el angulo de los etiquetas x para poder visualizarlos mejor\n",
    "plt.xticks(rotation=50, ha='right')\n",
    "plt.tight_layout()\n",
    "\n",
    "plt.show()"
   ]
  },
  {
   "cell_type": "code",
   "execution_count": 10,
   "metadata": {},
   "outputs": [
    {
     "data": {
      "text/html": [
       "<div>\n",
       "<style scoped>\n",
       "    .dataframe tbody tr th:only-of-type {\n",
       "        vertical-align: middle;\n",
       "    }\n",
       "\n",
       "    .dataframe tbody tr th {\n",
       "        vertical-align: top;\n",
       "    }\n",
       "\n",
       "    .dataframe thead th {\n",
       "        text-align: right;\n",
       "    }\n",
       "</style>\n",
       "<table border=\"1\" class=\"dataframe\">\n",
       "  <thead>\n",
       "    <tr style=\"text-align: right;\">\n",
       "      <th></th>\n",
       "      <th>genres</th>\n",
       "      <th>title</th>\n",
       "      <th>id</th>\n",
       "      <th>release_year</th>\n",
       "    </tr>\n",
       "  </thead>\n",
       "  <tbody>\n",
       "    <tr>\n",
       "      <th>0</th>\n",
       "      <td>[Strategy, Action, Indie, Casual, Simulation]</td>\n",
       "      <td>Lost Summoner Kitty</td>\n",
       "      <td>761140</td>\n",
       "      <td>2018</td>\n",
       "    </tr>\n",
       "    <tr>\n",
       "      <th>1</th>\n",
       "      <td>[Free to Play, Strategy, Indie, RPG, Card Game...</td>\n",
       "      <td>Ironbound</td>\n",
       "      <td>643980</td>\n",
       "      <td>2018</td>\n",
       "    </tr>\n",
       "    <tr>\n",
       "      <th>2</th>\n",
       "      <td>[Free to Play, Simulation, Sports, Casual, Ind...</td>\n",
       "      <td>Real Pool 3D - Poolians</td>\n",
       "      <td>670290</td>\n",
       "      <td>2017</td>\n",
       "    </tr>\n",
       "    <tr>\n",
       "      <th>3</th>\n",
       "      <td>[Action, Adventure, Casual]</td>\n",
       "      <td>弹炸人2222</td>\n",
       "      <td>767400</td>\n",
       "      <td>2017</td>\n",
       "    </tr>\n",
       "    <tr>\n",
       "      <th>4</th>\n",
       "      <td>[Action, Adventure, Simulation, FPS, Shooter, ...</td>\n",
       "      <td>Battle Royale Trainer</td>\n",
       "      <td>772540</td>\n",
       "      <td>2018</td>\n",
       "    </tr>\n",
       "  </tbody>\n",
       "</table>\n",
       "</div>"
      ],
      "text/plain": [
       "                                              genres                    title  \\\n",
       "0      [Strategy, Action, Indie, Casual, Simulation]      Lost Summoner Kitty   \n",
       "1  [Free to Play, Strategy, Indie, RPG, Card Game...                Ironbound   \n",
       "2  [Free to Play, Simulation, Sports, Casual, Ind...  Real Pool 3D - Poolians   \n",
       "3                        [Action, Adventure, Casual]                  弹炸人2222   \n",
       "4  [Action, Adventure, Simulation, FPS, Shooter, ...    Battle Royale Trainer   \n",
       "\n",
       "       id release_year  \n",
       "0  761140         2018  \n",
       "1  643980         2018  \n",
       "2  670290         2017  \n",
       "3  767400         2017  \n",
       "4  772540         2018  "
      ]
     },
     "execution_count": 10,
     "metadata": {},
     "output_type": "execute_result"
    }
   ],
   "source": [
    "games.head()"
   ]
  },
  {
   "cell_type": "markdown",
   "metadata": {},
   "source": [
    "*para poder crear la primera funcion vamos a necesitar dos dataframes* **games** *y* **items**\n",
    "*de los cuales las columnas que ayudaran a poder crear un conteo son las columnas* (**genre, item_id, release_date**) *de* **games** *y las columnas* (**item_id, playtime_forever**) *de* **items**"
   ]
  },
  {
   "cell_type": "code",
   "execution_count": 15,
   "metadata": {},
   "outputs": [],
   "source": [
    "games.rename(columns={'id':'item_id'}, inplace=True)\n",
    "games = games[['item_id','genres','release_year']]"
   ]
  },
  {
   "cell_type": "markdown",
   "metadata": {},
   "source": [
    "*unificamos en un dataframe para realizar las consultas*"
   ]
  },
  {
   "cell_type": "code",
   "execution_count": null,
   "metadata": {},
   "outputs": [],
   "source": [
    "items_games_general = games.merge(items, left_on='item_id', right_on= 'item_id',how='inner')"
   ]
  },
  {
   "cell_type": "code",
   "execution_count": 12,
   "metadata": {},
   "outputs": [
    {
     "data": {
      "text/plain": [
       "(2809932, 7)"
      ]
     },
     "execution_count": 12,
     "metadata": {},
     "output_type": "execute_result"
    }
   ],
   "source": [
    "items_games_general.shape"
   ]
  },
  {
   "cell_type": "code",
   "execution_count": 14,
   "metadata": {},
   "outputs": [
    {
     "data": {
      "text/html": [
       "<div>\n",
       "<style scoped>\n",
       "    .dataframe tbody tr th:only-of-type {\n",
       "        vertical-align: middle;\n",
       "    }\n",
       "\n",
       "    .dataframe tbody tr th {\n",
       "        vertical-align: top;\n",
       "    }\n",
       "\n",
       "    .dataframe thead th {\n",
       "        text-align: right;\n",
       "    }\n",
       "</style>\n",
       "<table border=\"1\" class=\"dataframe\">\n",
       "  <thead>\n",
       "    <tr style=\"text-align: right;\">\n",
       "      <th></th>\n",
       "      <th>item_id</th>\n",
       "      <th>genres</th>\n",
       "      <th>release_year</th>\n",
       "      <th>user_id</th>\n",
       "      <th>item_name</th>\n",
       "      <th>playtime_forever</th>\n",
       "      <th>playtime_2weeks</th>\n",
       "    </tr>\n",
       "  </thead>\n",
       "  <tbody>\n",
       "    <tr>\n",
       "      <th>0</th>\n",
       "      <td>282010</td>\n",
       "      <td>[Racing, Action, Classic, Indie, Gore, 1990's,...</td>\n",
       "      <td>1997</td>\n",
       "      <td>UTNerd24</td>\n",
       "      <td>Carmageddon Max Pack</td>\n",
       "      <td>5.0</td>\n",
       "      <td>0.0</td>\n",
       "    </tr>\n",
       "    <tr>\n",
       "      <th>1</th>\n",
       "      <td>282010</td>\n",
       "      <td>[Racing, Action, Classic, Indie, Gore, 1990's,...</td>\n",
       "      <td>1997</td>\n",
       "      <td>saint556</td>\n",
       "      <td>Carmageddon Max Pack</td>\n",
       "      <td>13.0</td>\n",
       "      <td>0.0</td>\n",
       "    </tr>\n",
       "    <tr>\n",
       "      <th>2</th>\n",
       "      <td>282010</td>\n",
       "      <td>[Racing, Action, Classic, Indie, Gore, 1990's,...</td>\n",
       "      <td>1997</td>\n",
       "      <td>chidvd</td>\n",
       "      <td>Carmageddon Max Pack</td>\n",
       "      <td>110.0</td>\n",
       "      <td>0.0</td>\n",
       "    </tr>\n",
       "    <tr>\n",
       "      <th>3</th>\n",
       "      <td>282010</td>\n",
       "      <td>[Racing, Action, Classic, Indie, Gore, 1990's,...</td>\n",
       "      <td>1997</td>\n",
       "      <td>aerpub</td>\n",
       "      <td>Carmageddon Max Pack</td>\n",
       "      <td>13.0</td>\n",
       "      <td>0.0</td>\n",
       "    </tr>\n",
       "    <tr>\n",
       "      <th>4</th>\n",
       "      <td>282010</td>\n",
       "      <td>[Racing, Action, Classic, Indie, Gore, 1990's,...</td>\n",
       "      <td>1997</td>\n",
       "      <td>lucifer666678</td>\n",
       "      <td>Carmageddon Max Pack</td>\n",
       "      <td>8.0</td>\n",
       "      <td>0.0</td>\n",
       "    </tr>\n",
       "    <tr>\n",
       "      <th>5</th>\n",
       "      <td>282010</td>\n",
       "      <td>[Racing, Action, Classic, Indie, Gore, 1990's,...</td>\n",
       "      <td>1997</td>\n",
       "      <td>FilthyDeath</td>\n",
       "      <td>Carmageddon Max Pack</td>\n",
       "      <td>12.0</td>\n",
       "      <td>0.0</td>\n",
       "    </tr>\n",
       "    <tr>\n",
       "      <th>6</th>\n",
       "      <td>282010</td>\n",
       "      <td>[Racing, Action, Classic, Indie, Gore, 1990's,...</td>\n",
       "      <td>1997</td>\n",
       "      <td>76561198018144075</td>\n",
       "      <td>Carmageddon Max Pack</td>\n",
       "      <td>49.0</td>\n",
       "      <td>0.0</td>\n",
       "    </tr>\n",
       "    <tr>\n",
       "      <th>7</th>\n",
       "      <td>282010</td>\n",
       "      <td>[Racing, Action, Classic, Indie, Gore, 1990's,...</td>\n",
       "      <td>1997</td>\n",
       "      <td>666NeCrO</td>\n",
       "      <td>Carmageddon Max Pack</td>\n",
       "      <td>261.0</td>\n",
       "      <td>0.0</td>\n",
       "    </tr>\n",
       "    <tr>\n",
       "      <th>8</th>\n",
       "      <td>282010</td>\n",
       "      <td>[Racing, Action, Classic, Indie, Gore, 1990's,...</td>\n",
       "      <td>1997</td>\n",
       "      <td>76561198001688490</td>\n",
       "      <td>Carmageddon Max Pack</td>\n",
       "      <td>2.0</td>\n",
       "      <td>0.0</td>\n",
       "    </tr>\n",
       "    <tr>\n",
       "      <th>9</th>\n",
       "      <td>282010</td>\n",
       "      <td>[Racing, Action, Classic, Indie, Gore, 1990's,...</td>\n",
       "      <td>1997</td>\n",
       "      <td>76561197974288321</td>\n",
       "      <td>Carmageddon Max Pack</td>\n",
       "      <td>14.0</td>\n",
       "      <td>0.0</td>\n",
       "    </tr>\n",
       "    <tr>\n",
       "      <th>10</th>\n",
       "      <td>282010</td>\n",
       "      <td>[Racing, Action, Classic, Indie, Gore, 1990's,...</td>\n",
       "      <td>1997</td>\n",
       "      <td>phrostb</td>\n",
       "      <td>Carmageddon Max Pack</td>\n",
       "      <td>232.0</td>\n",
       "      <td>0.0</td>\n",
       "    </tr>\n",
       "    <tr>\n",
       "      <th>11</th>\n",
       "      <td>282010</td>\n",
       "      <td>[Racing, Action, Classic, Indie, Gore, 1990's,...</td>\n",
       "      <td>1997</td>\n",
       "      <td>rawrvixen</td>\n",
       "      <td>Carmageddon Max Pack</td>\n",
       "      <td>105.0</td>\n",
       "      <td>0.0</td>\n",
       "    </tr>\n",
       "    <tr>\n",
       "      <th>12</th>\n",
       "      <td>282010</td>\n",
       "      <td>[Racing, Action, Classic, Indie, Gore, 1990's,...</td>\n",
       "      <td>1997</td>\n",
       "      <td>RED_PRIDE</td>\n",
       "      <td>Carmageddon Max Pack</td>\n",
       "      <td>113.0</td>\n",
       "      <td>0.0</td>\n",
       "    </tr>\n",
       "    <tr>\n",
       "      <th>13</th>\n",
       "      <td>282010</td>\n",
       "      <td>[Racing, Action, Classic, Indie, Gore, 1990's,...</td>\n",
       "      <td>1997</td>\n",
       "      <td>nstokesy</td>\n",
       "      <td>Carmageddon Max Pack</td>\n",
       "      <td>3.0</td>\n",
       "      <td>0.0</td>\n",
       "    </tr>\n",
       "    <tr>\n",
       "      <th>14</th>\n",
       "      <td>282010</td>\n",
       "      <td>[Racing, Action, Classic, Indie, Gore, 1990's,...</td>\n",
       "      <td>1997</td>\n",
       "      <td>thor2424</td>\n",
       "      <td>Carmageddon Max Pack</td>\n",
       "      <td>111.0</td>\n",
       "      <td>0.0</td>\n",
       "    </tr>\n",
       "    <tr>\n",
       "      <th>15</th>\n",
       "      <td>282010</td>\n",
       "      <td>[Racing, Action, Classic, Indie, Gore, 1990's,...</td>\n",
       "      <td>1997</td>\n",
       "      <td>ED13</td>\n",
       "      <td>Carmageddon Max Pack</td>\n",
       "      <td>232.0</td>\n",
       "      <td>0.0</td>\n",
       "    </tr>\n",
       "    <tr>\n",
       "      <th>16</th>\n",
       "      <td>282010</td>\n",
       "      <td>[Racing, Action, Classic, Indie, Gore, 1990's,...</td>\n",
       "      <td>1997</td>\n",
       "      <td>tzarius</td>\n",
       "      <td>Carmageddon Max Pack</td>\n",
       "      <td>16.0</td>\n",
       "      <td>0.0</td>\n",
       "    </tr>\n",
       "    <tr>\n",
       "      <th>17</th>\n",
       "      <td>282010</td>\n",
       "      <td>[Racing, Action, Classic, Indie, Gore, 1990's,...</td>\n",
       "      <td>1997</td>\n",
       "      <td>76561197975369524</td>\n",
       "      <td>Carmageddon Max Pack</td>\n",
       "      <td>3.0</td>\n",
       "      <td>0.0</td>\n",
       "    </tr>\n",
       "    <tr>\n",
       "      <th>18</th>\n",
       "      <td>282010</td>\n",
       "      <td>[Racing, Action, Classic, Indie, Gore, 1990's,...</td>\n",
       "      <td>1997</td>\n",
       "      <td>76561197977767929</td>\n",
       "      <td>Carmageddon Max Pack</td>\n",
       "      <td>100.0</td>\n",
       "      <td>0.0</td>\n",
       "    </tr>\n",
       "    <tr>\n",
       "      <th>19</th>\n",
       "      <td>282010</td>\n",
       "      <td>[Racing, Action, Classic, Indie, Gore, 1990's,...</td>\n",
       "      <td>1997</td>\n",
       "      <td>76561198030902576</td>\n",
       "      <td>Carmageddon Max Pack</td>\n",
       "      <td>137.0</td>\n",
       "      <td>0.0</td>\n",
       "    </tr>\n",
       "  </tbody>\n",
       "</table>\n",
       "</div>"
      ],
      "text/plain": [
       "    item_id                                             genres release_year  \\\n",
       "0    282010  [Racing, Action, Classic, Indie, Gore, 1990's,...         1997   \n",
       "1    282010  [Racing, Action, Classic, Indie, Gore, 1990's,...         1997   \n",
       "2    282010  [Racing, Action, Classic, Indie, Gore, 1990's,...         1997   \n",
       "3    282010  [Racing, Action, Classic, Indie, Gore, 1990's,...         1997   \n",
       "4    282010  [Racing, Action, Classic, Indie, Gore, 1990's,...         1997   \n",
       "5    282010  [Racing, Action, Classic, Indie, Gore, 1990's,...         1997   \n",
       "6    282010  [Racing, Action, Classic, Indie, Gore, 1990's,...         1997   \n",
       "7    282010  [Racing, Action, Classic, Indie, Gore, 1990's,...         1997   \n",
       "8    282010  [Racing, Action, Classic, Indie, Gore, 1990's,...         1997   \n",
       "9    282010  [Racing, Action, Classic, Indie, Gore, 1990's,...         1997   \n",
       "10   282010  [Racing, Action, Classic, Indie, Gore, 1990's,...         1997   \n",
       "11   282010  [Racing, Action, Classic, Indie, Gore, 1990's,...         1997   \n",
       "12   282010  [Racing, Action, Classic, Indie, Gore, 1990's,...         1997   \n",
       "13   282010  [Racing, Action, Classic, Indie, Gore, 1990's,...         1997   \n",
       "14   282010  [Racing, Action, Classic, Indie, Gore, 1990's,...         1997   \n",
       "15   282010  [Racing, Action, Classic, Indie, Gore, 1990's,...         1997   \n",
       "16   282010  [Racing, Action, Classic, Indie, Gore, 1990's,...         1997   \n",
       "17   282010  [Racing, Action, Classic, Indie, Gore, 1990's,...         1997   \n",
       "18   282010  [Racing, Action, Classic, Indie, Gore, 1990's,...         1997   \n",
       "19   282010  [Racing, Action, Classic, Indie, Gore, 1990's,...         1997   \n",
       "\n",
       "              user_id             item_name  playtime_forever  playtime_2weeks  \n",
       "0            UTNerd24  Carmageddon Max Pack               5.0              0.0  \n",
       "1            saint556  Carmageddon Max Pack              13.0              0.0  \n",
       "2              chidvd  Carmageddon Max Pack             110.0              0.0  \n",
       "3              aerpub  Carmageddon Max Pack              13.0              0.0  \n",
       "4       lucifer666678  Carmageddon Max Pack               8.0              0.0  \n",
       "5         FilthyDeath  Carmageddon Max Pack              12.0              0.0  \n",
       "6   76561198018144075  Carmageddon Max Pack              49.0              0.0  \n",
       "7            666NeCrO  Carmageddon Max Pack             261.0              0.0  \n",
       "8   76561198001688490  Carmageddon Max Pack               2.0              0.0  \n",
       "9   76561197974288321  Carmageddon Max Pack              14.0              0.0  \n",
       "10            phrostb  Carmageddon Max Pack             232.0              0.0  \n",
       "11          rawrvixen  Carmageddon Max Pack             105.0              0.0  \n",
       "12          RED_PRIDE  Carmageddon Max Pack             113.0              0.0  \n",
       "13           nstokesy  Carmageddon Max Pack               3.0              0.0  \n",
       "14           thor2424  Carmageddon Max Pack             111.0              0.0  \n",
       "15               ED13  Carmageddon Max Pack             232.0              0.0  \n",
       "16            tzarius  Carmageddon Max Pack              16.0              0.0  \n",
       "17  76561197975369524  Carmageddon Max Pack               3.0              0.0  \n",
       "18  76561197977767929  Carmageddon Max Pack             100.0              0.0  \n",
       "19  76561198030902576  Carmageddon Max Pack             137.0              0.0  "
      ]
     },
     "execution_count": 14,
     "metadata": {},
     "output_type": "execute_result"
    }
   ],
   "source": [
    "items_games_general.head(20)"
   ]
  },
  {
   "cell_type": "markdown",
   "metadata": {},
   "source": [
    "para la consulta1 playtime_genre utilizamos las columnas: release_year, genres, playtime_forever,item_id"
   ]
  },
  {
   "cell_type": "code",
   "execution_count": 4,
   "metadata": {},
   "outputs": [
    {
     "data": {
      "text/html": [
       "<div>\n",
       "<style scoped>\n",
       "    .dataframe tbody tr th:only-of-type {\n",
       "        vertical-align: middle;\n",
       "    }\n",
       "\n",
       "    .dataframe tbody tr th {\n",
       "        vertical-align: top;\n",
       "    }\n",
       "\n",
       "    .dataframe thead th {\n",
       "        text-align: right;\n",
       "    }\n",
       "</style>\n",
       "<table border=\"1\" class=\"dataframe\">\n",
       "  <thead>\n",
       "    <tr style=\"text-align: right;\">\n",
       "      <th></th>\n",
       "      <th>index</th>\n",
       "      <th>release_year</th>\n",
       "      <th>genres</th>\n",
       "      <th>playtime_forever</th>\n",
       "      <th>item_id</th>\n",
       "    </tr>\n",
       "  </thead>\n",
       "  <tbody>\n",
       "    <tr>\n",
       "      <th>0</th>\n",
       "      <td>0</td>\n",
       "      <td>1997</td>\n",
       "      <td>Racing</td>\n",
       "      <td>5.0</td>\n",
       "      <td>282010</td>\n",
       "    </tr>\n",
       "    <tr>\n",
       "      <th>1</th>\n",
       "      <td>0</td>\n",
       "      <td>1997</td>\n",
       "      <td>Action</td>\n",
       "      <td>5.0</td>\n",
       "      <td>282010</td>\n",
       "    </tr>\n",
       "    <tr>\n",
       "      <th>2</th>\n",
       "      <td>0</td>\n",
       "      <td>1997</td>\n",
       "      <td>Classic</td>\n",
       "      <td>5.0</td>\n",
       "      <td>282010</td>\n",
       "    </tr>\n",
       "    <tr>\n",
       "      <th>3</th>\n",
       "      <td>0</td>\n",
       "      <td>1997</td>\n",
       "      <td>Indie</td>\n",
       "      <td>5.0</td>\n",
       "      <td>282010</td>\n",
       "    </tr>\n",
       "    <tr>\n",
       "      <th>4</th>\n",
       "      <td>0</td>\n",
       "      <td>1997</td>\n",
       "      <td>Gore</td>\n",
       "      <td>5.0</td>\n",
       "      <td>282010</td>\n",
       "    </tr>\n",
       "  </tbody>\n",
       "</table>\n",
       "</div>"
      ],
      "text/plain": [
       "   index release_year   genres  playtime_forever  item_id\n",
       "0      0         1997   Racing               5.0   282010\n",
       "1      0         1997   Action               5.0   282010\n",
       "2      0         1997  Classic               5.0   282010\n",
       "3      0         1997    Indie               5.0   282010\n",
       "4      0         1997     Gore               5.0   282010"
      ]
     },
     "execution_count": 4,
     "metadata": {},
     "output_type": "execute_result"
    }
   ],
   "source": [
    "items_games = items_games_general[['release_year', 'genres', 'playtime_forever']]\n",
    "items_games = items_games.explode('genres').reset_index()\n",
    "items_games.head()"
   ]
  },
  {
   "cell_type": "markdown",
   "metadata": {},
   "source": [
    "antes de sumar los tiempos de jugabilidad, graficamos los datos crudos para chequear algun outlier que pueda sesgar la consulta\n",
    "* desanidamos los generos"
   ]
  },
  {
   "cell_type": "code",
   "execution_count": 16,
   "metadata": {},
   "outputs": [
    {
     "data": {
      "text/html": [
       "<div>\n",
       "<style scoped>\n",
       "    .dataframe tbody tr th:only-of-type {\n",
       "        vertical-align: middle;\n",
       "    }\n",
       "\n",
       "    .dataframe tbody tr th {\n",
       "        vertical-align: top;\n",
       "    }\n",
       "\n",
       "    .dataframe thead th {\n",
       "        text-align: right;\n",
       "    }\n",
       "</style>\n",
       "<table border=\"1\" class=\"dataframe\">\n",
       "  <thead>\n",
       "    <tr style=\"text-align: right;\">\n",
       "      <th></th>\n",
       "      <th>item_id</th>\n",
       "      <th>genres</th>\n",
       "      <th>release_year</th>\n",
       "    </tr>\n",
       "  </thead>\n",
       "  <tbody>\n",
       "    <tr>\n",
       "      <th>0</th>\n",
       "      <td>761140</td>\n",
       "      <td>Strategy</td>\n",
       "      <td>2018</td>\n",
       "    </tr>\n",
       "    <tr>\n",
       "      <th>0</th>\n",
       "      <td>761140</td>\n",
       "      <td>Action</td>\n",
       "      <td>2018</td>\n",
       "    </tr>\n",
       "    <tr>\n",
       "      <th>0</th>\n",
       "      <td>761140</td>\n",
       "      <td>Indie</td>\n",
       "      <td>2018</td>\n",
       "    </tr>\n",
       "    <tr>\n",
       "      <th>0</th>\n",
       "      <td>761140</td>\n",
       "      <td>Casual</td>\n",
       "      <td>2018</td>\n",
       "    </tr>\n",
       "    <tr>\n",
       "      <th>0</th>\n",
       "      <td>761140</td>\n",
       "      <td>Simulation</td>\n",
       "      <td>2018</td>\n",
       "    </tr>\n",
       "  </tbody>\n",
       "</table>\n",
       "</div>"
      ],
      "text/plain": [
       "   item_id      genres  release_year\n",
       "0   761140    Strategy          2018\n",
       "0   761140      Action          2018\n",
       "0   761140       Indie          2018\n",
       "0   761140      Casual          2018\n",
       "0   761140  Simulation          2018"
      ]
     },
     "execution_count": 16,
     "metadata": {},
     "output_type": "execute_result"
    }
   ],
   "source": [
    "games = games.explode('genres')\n",
    "games['release_year'] = games['release_year'].astype(int)\n",
    "games.head()"
   ]
  },
  {
   "cell_type": "code",
   "execution_count": null,
   "metadata": {},
   "outputs": [
    {
     "data": {
      "text/plain": [
       "count    157914.000000\n",
       "mean       2014.595755\n",
       "std          14.671598\n",
       "min        1970.000000\n",
       "25%        2014.000000\n",
       "50%        2016.000000\n",
       "75%        2017.000000\n",
       "max        5275.000000\n",
       "Name: release_year, dtype: float64"
      ]
     },
     "execution_count": 11,
     "metadata": {},
     "output_type": "execute_result"
    }
   ],
   "source": [
    "games['release_year'].describe(include='all')"
   ]
  },
  {
   "cell_type": "code",
   "execution_count": null,
   "metadata": {},
   "outputs": [
    {
     "name": "stdout",
     "output_type": "stream",
     "text": [
      "release_year\n",
      "5275        3\n",
      "2021        3\n",
      "2019       14\n",
      "2018      792\n",
      "2017    45410\n",
      "2016    35683\n",
      "2015    27550\n",
      "2014    16841\n",
      "2013     8321\n",
      "2012     6062\n",
      "2011     3469\n",
      "2010     2692\n",
      "2009     2069\n",
      "2008     1355\n",
      "2007     1144\n",
      "2006     1053\n",
      "2005      774\n",
      "2004      605\n",
      "2003      658\n",
      "2002      369\n",
      "2001      512\n",
      "2000      287\n",
      "1999      359\n",
      "1998      372\n",
      "1997      306\n",
      "1996      233\n",
      "1995      233\n",
      "1994      195\n",
      "1993      173\n",
      "1992       74\n",
      "1991       58\n",
      "1990       51\n",
      "1989       62\n",
      "1988       35\n",
      "1987       32\n",
      "1986        6\n",
      "1985       10\n",
      "1984       18\n",
      "1983       15\n",
      "1982        7\n",
      "1981        4\n",
      "1980        1\n",
      "1975        1\n",
      "1970        3\n",
      "Name: count, dtype: int64\n"
     ]
    }
   ],
   "source": [
    "year = games['release_year'].value_counts()\n",
    "year = year.sort_index(axis='index', ascending=False)\n",
    "print(year)"
   ]
  },
  {
   "cell_type": "code",
   "execution_count": null,
   "metadata": {},
   "outputs": [
    {
     "data": {
      "image/png": "[encoded data removed]",
      "text/plain": [
       "<Figure size 3000x2000 with 1 Axes>"
      ]
     },
     "metadata": {},
     "output_type": "display_data"
    }
   ],
   "source": [
    "#las dimensiones son grandes debido a que estoy consultando mas de 30 segmentaciones en el eje X\n",
    "#de esta manera se logra apreciar mas la diferencia año tras año\n",
    "plt.figure(figsize=(30,20))\n",
    "sns.barplot(x=year.index,y=year)\n",
    "plt.show()"
   ]
  },
  {
   "cell_type": "markdown",
   "metadata": {},
   "source": [
    "en las muestras de cantidad de juegos por año, el recuento nos da outliers como 5275, 2021, 2019, y 2018. Del 2019 al 2021 podria considerarse debido al brote de la pandemia, el de 5275 se puede interpretar como un error de tipeo y el de 2018 como fallas al cargar los datos\n",
    "+ tomaremos un muestreo desde 1970 al 2017 donde tenemos un incremento gradual de videojuegos\n",
    "+ volvemos a graficar para corroborar los datos"
   ]
  },
  {
   "cell_type": "code",
   "execution_count": null,
   "metadata": {},
   "outputs": [
    {
     "data": {
      "image/png": "[encoded data removed]",
      "text/plain": [
       "<Figure size 3000x2000 with 1 Axes>"
      ]
     },
     "metadata": {},
     "output_type": "display_data"
    }
   ],
   "source": [
    "games = games[(games['release_year']>=1970) & (games['release_year']<=2017)]\n",
    "year = games['release_year'].value_counts()\n",
    "year = year.sort_index(axis='index', ascending=False)\n",
    "plt.figure(figsize=(30,20))\n",
    "sns.barplot(x=year.index,y=year)\n",
    "plt.show()"
   ]
  },
  {
   "cell_type": "markdown",
   "metadata": {},
   "source": [
    "+ convertimos la columna release_year a tipo int\n",
    "+ filtramos los años\n",
    "+ y eliminamos la columna index"
   ]
  },
  {
   "cell_type": "code",
   "execution_count": 10,
   "metadata": {},
   "outputs": [],
   "source": [
    "items_games['release_year'] = items_games['release_year'].astype(int)\n",
    "items_games = items_games[(items_games['release_year']>=1970) & (items_games['release_year']<=2018)]\n",
    "items_games.drop('index', axis=1, inplace=True)"
   ]
  },
  {
   "cell_type": "markdown",
   "metadata": {},
   "source": [
    "agrupamos los datos por los años y el tipo de genero, y sumamos el valor de la columna playtime"
   ]
  },
  {
   "cell_type": "code",
   "execution_count": 15,
   "metadata": {},
   "outputs": [
    {
     "ename": "NameError",
     "evalue": "name 'items_games' is not defined",
     "output_type": "error",
     "traceback": [
      "\u001b[0;31m---------------------------------------------------------------------------\u001b[0m",
      "\u001b[0;31mNameError\u001b[0m                                 Traceback (most recent call last)",
      "Cell \u001b[0;32mIn[15], line 1\u001b[0m\n\u001b[0;32m----> 1\u001b[0m items_games \u001b[38;5;241m=\u001b[39m \u001b[43mitems_games\u001b[49m\u001b[38;5;241m.\u001b[39mgroupby([\u001b[38;5;124m'\u001b[39m\u001b[38;5;124mrelease_year\u001b[39m\u001b[38;5;124m'\u001b[39m, \u001b[38;5;124m'\u001b[39m\u001b[38;5;124mgenres\u001b[39m\u001b[38;5;124m'\u001b[39m])\u001b[38;5;241m.\u001b[39msum()\u001b[38;5;241m.\u001b[39mreset_index()\n\u001b[1;32m      2\u001b[0m \u001b[38;5;66;03m#items_games.head()\u001b[39;00m\n",
      "\u001b[0;31mNameError\u001b[0m: name 'items_games' is not defined"
     ]
    }
   ],
   "source": [
    "items_games = items_games.groupby(['release_year', 'genres']).sum().reset_index()\n",
    "#items_games.head()"
   ]
  },
  {
   "cell_type": "code",
   "execution_count": 34,
   "metadata": {},
   "outputs": [
    {
     "data": {
      "text/html": [
       "<div>\n",
       "<style scoped>\n",
       "    .dataframe tbody tr th:only-of-type {\n",
       "        vertical-align: middle;\n",
       "    }\n",
       "\n",
       "    .dataframe tbody tr th {\n",
       "        vertical-align: top;\n",
       "    }\n",
       "\n",
       "    .dataframe thead th {\n",
       "        text-align: right;\n",
       "    }\n",
       "</style>\n",
       "<table border=\"1\" class=\"dataframe\">\n",
       "  <thead>\n",
       "    <tr style=\"text-align: right;\">\n",
       "      <th></th>\n",
       "      <th>release_year</th>\n",
       "      <th>genres</th>\n",
       "      <th>playtime_forever</th>\n",
       "      <th>item_id</th>\n",
       "    </tr>\n",
       "  </thead>\n",
       "  <tbody>\n",
       "    <tr>\n",
       "      <th>4333</th>\n",
       "      <td>2017</td>\n",
       "      <td>Strategy</td>\n",
       "      <td>29419834.0</td>\n",
       "      <td>8839732460</td>\n",
       "    </tr>\n",
       "    <tr>\n",
       "      <th>4334</th>\n",
       "      <td>2017</td>\n",
       "      <td>Strategy RPG</td>\n",
       "      <td>10102.0</td>\n",
       "      <td>8389600</td>\n",
       "    </tr>\n",
       "    <tr>\n",
       "      <th>4335</th>\n",
       "      <td>2017</td>\n",
       "      <td>Stylized</td>\n",
       "      <td>6424.0</td>\n",
       "      <td>10217400</td>\n",
       "    </tr>\n",
       "    <tr>\n",
       "      <th>4336</th>\n",
       "      <td>2017</td>\n",
       "      <td>Supernatural</td>\n",
       "      <td>1693060.0</td>\n",
       "      <td>193197100</td>\n",
       "    </tr>\n",
       "    <tr>\n",
       "      <th>4337</th>\n",
       "      <td>2017</td>\n",
       "      <td>Surreal</td>\n",
       "      <td>5520.0</td>\n",
       "      <td>23807860</td>\n",
       "    </tr>\n",
       "    <tr>\n",
       "      <th>4338</th>\n",
       "      <td>2017</td>\n",
       "      <td>Survival</td>\n",
       "      <td>99127601.0</td>\n",
       "      <td>19697990060</td>\n",
       "    </tr>\n",
       "    <tr>\n",
       "      <th>4339</th>\n",
       "      <td>2017</td>\n",
       "      <td>Survival Horror</td>\n",
       "      <td>1106695.0</td>\n",
       "      <td>1495729190</td>\n",
       "    </tr>\n",
       "    <tr>\n",
       "      <th>4340</th>\n",
       "      <td>2017</td>\n",
       "      <td>Swordplay</td>\n",
       "      <td>6424.0</td>\n",
       "      <td>10217400</td>\n",
       "    </tr>\n",
       "    <tr>\n",
       "      <th>4341</th>\n",
       "      <td>2017</td>\n",
       "      <td>Tactical</td>\n",
       "      <td>118667.0</td>\n",
       "      <td>55183760</td>\n",
       "    </tr>\n",
       "    <tr>\n",
       "      <th>4342</th>\n",
       "      <td>2017</td>\n",
       "      <td>Tactical RPG</td>\n",
       "      <td>54.0</td>\n",
       "      <td>404200</td>\n",
       "    </tr>\n",
       "    <tr>\n",
       "      <th>4343</th>\n",
       "      <td>2017</td>\n",
       "      <td>Tanks</td>\n",
       "      <td>18076.0</td>\n",
       "      <td>6119880</td>\n",
       "    </tr>\n",
       "    <tr>\n",
       "      <th>4344</th>\n",
       "      <td>2017</td>\n",
       "      <td>Team-Based</td>\n",
       "      <td>22903.0</td>\n",
       "      <td>125184450</td>\n",
       "    </tr>\n",
       "    <tr>\n",
       "      <th>4345</th>\n",
       "      <td>2017</td>\n",
       "      <td>Text-Based</td>\n",
       "      <td>24.0</td>\n",
       "      <td>407760</td>\n",
       "    </tr>\n",
       "    <tr>\n",
       "      <th>4346</th>\n",
       "      <td>2017</td>\n",
       "      <td>Third Person</td>\n",
       "      <td>7800061.0</td>\n",
       "      <td>3970385760</td>\n",
       "    </tr>\n",
       "    <tr>\n",
       "      <th>4347</th>\n",
       "      <td>2017</td>\n",
       "      <td>Third-Person Shooter</td>\n",
       "      <td>23503795.0</td>\n",
       "      <td>5311176540</td>\n",
       "    </tr>\n",
       "    <tr>\n",
       "      <th>4348</th>\n",
       "      <td>2017</td>\n",
       "      <td>Time Attack</td>\n",
       "      <td>4797.0</td>\n",
       "      <td>9234130</td>\n",
       "    </tr>\n",
       "    <tr>\n",
       "      <th>4349</th>\n",
       "      <td>2017</td>\n",
       "      <td>Time Travel</td>\n",
       "      <td>24.0</td>\n",
       "      <td>381890</td>\n",
       "    </tr>\n",
       "    <tr>\n",
       "      <th>4350</th>\n",
       "      <td>2017</td>\n",
       "      <td>Top-Down</td>\n",
       "      <td>685.0</td>\n",
       "      <td>1340650</td>\n",
       "    </tr>\n",
       "    <tr>\n",
       "      <th>4351</th>\n",
       "      <td>2017</td>\n",
       "      <td>Top-Down Shooter</td>\n",
       "      <td>685.0</td>\n",
       "      <td>1340650</td>\n",
       "    </tr>\n",
       "    <tr>\n",
       "      <th>4352</th>\n",
       "      <td>2017</td>\n",
       "      <td>Tower Defense</td>\n",
       "      <td>4563459.0</td>\n",
       "      <td>1975720710</td>\n",
       "    </tr>\n",
       "    <tr>\n",
       "      <th>4353</th>\n",
       "      <td>2017</td>\n",
       "      <td>Trading Card Game</td>\n",
       "      <td>94843.0</td>\n",
       "      <td>81724520</td>\n",
       "    </tr>\n",
       "    <tr>\n",
       "      <th>4354</th>\n",
       "      <td>2017</td>\n",
       "      <td>Trains</td>\n",
       "      <td>5685.0</td>\n",
       "      <td>6687360</td>\n",
       "    </tr>\n",
       "    <tr>\n",
       "      <th>4355</th>\n",
       "      <td>2017</td>\n",
       "      <td>Turn-Based</td>\n",
       "      <td>220674.0</td>\n",
       "      <td>159388790</td>\n",
       "    </tr>\n",
       "    <tr>\n",
       "      <th>4356</th>\n",
       "      <td>2017</td>\n",
       "      <td>Turn-Based Combat</td>\n",
       "      <td>109826.0</td>\n",
       "      <td>65336790</td>\n",
       "    </tr>\n",
       "    <tr>\n",
       "      <th>4357</th>\n",
       "      <td>2017</td>\n",
       "      <td>Turn-Based Strategy</td>\n",
       "      <td>193977.0</td>\n",
       "      <td>143947720</td>\n",
       "    </tr>\n",
       "    <tr>\n",
       "      <th>4358</th>\n",
       "      <td>2017</td>\n",
       "      <td>Turn-Based Tactics</td>\n",
       "      <td>110189.0</td>\n",
       "      <td>59560090</td>\n",
       "    </tr>\n",
       "    <tr>\n",
       "      <th>4359</th>\n",
       "      <td>2017</td>\n",
       "      <td>Twin Stick Shooter</td>\n",
       "      <td>5976.0</td>\n",
       "      <td>9997460</td>\n",
       "    </tr>\n",
       "    <tr>\n",
       "      <th>4360</th>\n",
       "      <td>2017</td>\n",
       "      <td>Typing</td>\n",
       "      <td>37.0</td>\n",
       "      <td>454950</td>\n",
       "    </tr>\n",
       "    <tr>\n",
       "      <th>4361</th>\n",
       "      <td>2017</td>\n",
       "      <td>Utilities</td>\n",
       "      <td>9734.0</td>\n",
       "      <td>5648860</td>\n",
       "    </tr>\n",
       "    <tr>\n",
       "      <th>4362</th>\n",
       "      <td>2017</td>\n",
       "      <td>VR</td>\n",
       "      <td>49693.0</td>\n",
       "      <td>81658440</td>\n",
       "    </tr>\n",
       "    <tr>\n",
       "      <th>4363</th>\n",
       "      <td>2017</td>\n",
       "      <td>Violent</td>\n",
       "      <td>66685.0</td>\n",
       "      <td>75240450</td>\n",
       "    </tr>\n",
       "    <tr>\n",
       "      <th>4364</th>\n",
       "      <td>2017</td>\n",
       "      <td>Visual Novel</td>\n",
       "      <td>9457.0</td>\n",
       "      <td>4987720</td>\n",
       "    </tr>\n",
       "    <tr>\n",
       "      <th>4365</th>\n",
       "      <td>2017</td>\n",
       "      <td>Voxel</td>\n",
       "      <td>846679.0</td>\n",
       "      <td>611718170</td>\n",
       "    </tr>\n",
       "    <tr>\n",
       "      <th>4366</th>\n",
       "      <td>2017</td>\n",
       "      <td>Walking Simulator</td>\n",
       "      <td>1249952.0</td>\n",
       "      <td>965506470</td>\n",
       "    </tr>\n",
       "    <tr>\n",
       "      <th>4367</th>\n",
       "      <td>2017</td>\n",
       "      <td>War</td>\n",
       "      <td>22723.0</td>\n",
       "      <td>11712480</td>\n",
       "    </tr>\n",
       "    <tr>\n",
       "      <th>4368</th>\n",
       "      <td>2017</td>\n",
       "      <td>Wargame</td>\n",
       "      <td>7263.0</td>\n",
       "      <td>5312160</td>\n",
       "    </tr>\n",
       "    <tr>\n",
       "      <th>4369</th>\n",
       "      <td>2017</td>\n",
       "      <td>Web Publishing</td>\n",
       "      <td>9713.0</td>\n",
       "      <td>4461580</td>\n",
       "    </tr>\n",
       "    <tr>\n",
       "      <th>4370</th>\n",
       "      <td>2017</td>\n",
       "      <td>Western</td>\n",
       "      <td>5685.0</td>\n",
       "      <td>6687360</td>\n",
       "    </tr>\n",
       "    <tr>\n",
       "      <th>4371</th>\n",
       "      <td>2017</td>\n",
       "      <td>World War II</td>\n",
       "      <td>39572.0</td>\n",
       "      <td>27749670</td>\n",
       "    </tr>\n",
       "    <tr>\n",
       "      <th>4372</th>\n",
       "      <td>2017</td>\n",
       "      <td>Zombies</td>\n",
       "      <td>52959639.0</td>\n",
       "      <td>11648173780</td>\n",
       "    </tr>\n",
       "    <tr>\n",
       "      <th>4373</th>\n",
       "      <td>2017</td>\n",
       "      <td>e-sports</td>\n",
       "      <td>395.0</td>\n",
       "      <td>8697870</td>\n",
       "    </tr>\n",
       "    <tr>\n",
       "      <th>4374</th>\n",
       "      <td>2018</td>\n",
       "      <td>Action</td>\n",
       "      <td>2224.0</td>\n",
       "      <td>5249810</td>\n",
       "    </tr>\n",
       "    <tr>\n",
       "      <th>4375</th>\n",
       "      <td>2018</td>\n",
       "      <td>Action RPG</td>\n",
       "      <td>21.0</td>\n",
       "      <td>302810</td>\n",
       "    </tr>\n",
       "    <tr>\n",
       "      <th>4376</th>\n",
       "      <td>2018</td>\n",
       "      <td>Adventure</td>\n",
       "      <td>21.0</td>\n",
       "      <td>302810</td>\n",
       "    </tr>\n",
       "    <tr>\n",
       "      <th>4377</th>\n",
       "      <td>2018</td>\n",
       "      <td>Early Access</td>\n",
       "      <td>6128.0</td>\n",
       "      <td>15153920</td>\n",
       "    </tr>\n",
       "    <tr>\n",
       "      <th>4378</th>\n",
       "      <td>2018</td>\n",
       "      <td>Indie</td>\n",
       "      <td>2327.0</td>\n",
       "      <td>9716800</td>\n",
       "    </tr>\n",
       "    <tr>\n",
       "      <th>4379</th>\n",
       "      <td>2018</td>\n",
       "      <td>Metroidvania</td>\n",
       "      <td>103.0</td>\n",
       "      <td>4466990</td>\n",
       "    </tr>\n",
       "    <tr>\n",
       "      <th>4380</th>\n",
       "      <td>2018</td>\n",
       "      <td>Platformer</td>\n",
       "      <td>103.0</td>\n",
       "      <td>4466990</td>\n",
       "    </tr>\n",
       "    <tr>\n",
       "      <th>4381</th>\n",
       "      <td>2018</td>\n",
       "      <td>RPG</td>\n",
       "      <td>3822.0</td>\n",
       "      <td>5739930</td>\n",
       "    </tr>\n",
       "    <tr>\n",
       "      <th>4382</th>\n",
       "      <td>2018</td>\n",
       "      <td>Simulation</td>\n",
       "      <td>2203.0</td>\n",
       "      <td>4947000</td>\n",
       "    </tr>\n",
       "  </tbody>\n",
       "</table>\n",
       "</div>"
      ],
      "text/plain": [
       "     release_year                genres  playtime_forever      item_id\n",
       "4333         2017              Strategy        29419834.0   8839732460\n",
       "4334         2017          Strategy RPG           10102.0      8389600\n",
       "4335         2017              Stylized            6424.0     10217400\n",
       "4336         2017          Supernatural         1693060.0    193197100\n",
       "4337         2017               Surreal            5520.0     23807860\n",
       "4338         2017              Survival        99127601.0  19697990060\n",
       "4339         2017       Survival Horror         1106695.0   1495729190\n",
       "4340         2017             Swordplay            6424.0     10217400\n",
       "4341         2017              Tactical          118667.0     55183760\n",
       "4342         2017          Tactical RPG              54.0       404200\n",
       "4343         2017                 Tanks           18076.0      6119880\n",
       "4344         2017            Team-Based           22903.0    125184450\n",
       "4345         2017            Text-Based              24.0       407760\n",
       "4346         2017          Third Person         7800061.0   3970385760\n",
       "4347         2017  Third-Person Shooter        23503795.0   5311176540\n",
       "4348         2017           Time Attack            4797.0      9234130\n",
       "4349         2017           Time Travel              24.0       381890\n",
       "4350         2017              Top-Down             685.0      1340650\n",
       "4351         2017      Top-Down Shooter             685.0      1340650\n",
       "4352         2017         Tower Defense         4563459.0   1975720710\n",
       "4353         2017     Trading Card Game           94843.0     81724520\n",
       "4354         2017                Trains            5685.0      6687360\n",
       "4355         2017            Turn-Based          220674.0    159388790\n",
       "4356         2017     Turn-Based Combat          109826.0     65336790\n",
       "4357         2017   Turn-Based Strategy          193977.0    143947720\n",
       "4358         2017    Turn-Based Tactics          110189.0     59560090\n",
       "4359         2017    Twin Stick Shooter            5976.0      9997460\n",
       "4360         2017                Typing              37.0       454950\n",
       "4361         2017             Utilities            9734.0      5648860\n",
       "4362         2017                    VR           49693.0     81658440\n",
       "4363         2017               Violent           66685.0     75240450\n",
       "4364         2017          Visual Novel            9457.0      4987720\n",
       "4365         2017                 Voxel          846679.0    611718170\n",
       "4366         2017     Walking Simulator         1249952.0    965506470\n",
       "4367         2017                   War           22723.0     11712480\n",
       "4368         2017               Wargame            7263.0      5312160\n",
       "4369         2017        Web Publishing            9713.0      4461580\n",
       "4370         2017               Western            5685.0      6687360\n",
       "4371         2017          World War II           39572.0     27749670\n",
       "4372         2017               Zombies        52959639.0  11648173780\n",
       "4373         2017              e-sports             395.0      8697870\n",
       "4374         2018                Action            2224.0      5249810\n",
       "4375         2018            Action RPG              21.0       302810\n",
       "4376         2018             Adventure              21.0       302810\n",
       "4377         2018          Early Access            6128.0     15153920\n",
       "4378         2018                 Indie            2327.0      9716800\n",
       "4379         2018          Metroidvania             103.0      4466990\n",
       "4380         2018            Platformer             103.0      4466990\n",
       "4381         2018                   RPG            3822.0      5739930\n",
       "4382         2018            Simulation            2203.0      4947000"
      ]
     },
     "execution_count": 34,
     "metadata": {},
     "output_type": "execute_result"
    }
   ],
   "source": [
    "items_games.tail(50)"
   ]
  },
  {
   "cell_type": "markdown",
   "metadata": {},
   "source": [
    "**gracias a estos datos ya podemos verificar cual es la acumulacion de tiempo jugado por cada genero en cada año**\n",
    "+ *los años 1970 - 1982 son años en los que se registran lanzamientos de videojuegos, sin embargo no hay un conteo (playtime_genre) en la plataforma de Steam Australia*"
   ]
  },
  {
   "cell_type": "code",
   "execution_count": 12,
   "metadata": {},
   "outputs": [
    {
     "ename": "NameError",
     "evalue": "name 'items_games' is not defined",
     "output_type": "error",
     "traceback": [
      "\u001b[0;31m---------------------------------------------------------------------------\u001b[0m",
      "\u001b[0;31mNameError\u001b[0m                                 Traceback (most recent call last)",
      "Cell \u001b[0;32mIn[12], line 1\u001b[0m\n\u001b[0;32m----> 1\u001b[0m \u001b[43mitems_games\u001b[49m\u001b[38;5;241m.\u001b[39mto_parquet(\u001b[38;5;124m'\u001b[39m\u001b[38;5;124m../consultas/playtime_genre.parquet\u001b[39m\u001b[38;5;124m'\u001b[39m)\n",
      "\u001b[0;31mNameError\u001b[0m: name 'items_games' is not defined"
     ]
    }
   ],
   "source": [
    "items_games.to_parquet('../consultas/playtime_genre.parquet')"
   ]
  },
  {
   "cell_type": "markdown",
   "metadata": {},
   "source": [
    "*-----------------------------------------------------------------------------------------------------------------------------------*\n",
    "\n",
    "*--------------------------------------------UserForGenre------------------------------------------------------------------*"
   ]
  },
  {
   "cell_type": "code",
   "execution_count": 4,
   "metadata": {},
   "outputs": [
    {
     "data": {
      "text/plain": [
       "<bound method NDFrame.head of                    user_id release_year  \\\n",
       "0                 UTNerd24         1997   \n",
       "1                 saint556         1997   \n",
       "2                   chidvd         1997   \n",
       "3                   aerpub         1997   \n",
       "4            lucifer666678         1997   \n",
       "...                    ...          ...   \n",
       "2809927  76561198208507532         2004   \n",
       "2809928  76561198221578852         2004   \n",
       "2809929        EnVyIsSmexy         2004   \n",
       "2809930  76561198283312749         2004   \n",
       "2809931  76561198312638244         2004   \n",
       "\n",
       "                                                    genres  playtime_forever  \n",
       "0        [Racing, Action, Classic, Indie, Gore, 1990's,...               5.0  \n",
       "1        [Racing, Action, Classic, Indie, Gore, 1990's,...              13.0  \n",
       "2        [Racing, Action, Classic, Indie, Gore, 1990's,...             110.0  \n",
       "3        [Racing, Action, Classic, Indie, Gore, 1990's,...              13.0  \n",
       "4        [Racing, Action, Classic, Indie, Gore, 1990's,...               8.0  \n",
       "...                                                    ...               ...  \n",
       "2809927  [Action, FPS, Shooter, Multiplayer, Singleplay...             203.0  \n",
       "2809928  [Action, FPS, Shooter, Multiplayer, Singleplay...             244.0  \n",
       "2809929  [Action, FPS, Shooter, Multiplayer, Singleplay...               7.0  \n",
       "2809930  [Action, FPS, Shooter, Multiplayer, Singleplay...               9.0  \n",
       "2809931  [Action, FPS, Shooter, Multiplayer, Singleplay...              99.0  \n",
       "\n",
       "[2809932 rows x 4 columns]>"
      ]
     },
     "execution_count": 4,
     "metadata": {},
     "output_type": "execute_result"
    }
   ],
   "source": [
    "user_genre = items_games_general[['user_id','release_year','genres','playtime_forever']]\n",
    "user_genre.head"
   ]
  },
  {
   "cell_type": "code",
   "execution_count": 199,
   "metadata": {},
   "outputs": [],
   "source": [
    "###########################################################################################################\n",
    "user_genre = pd.read_parquet('../consultas/user_for_genre.parquet')\n",
    "###########################################################################################################"
   ]
  },
  {
   "cell_type": "code",
   "execution_count": null,
   "metadata": {},
   "outputs": [],
   "source": [
    "generos = games['genres'].unique()\n"
   ]
  },
  {
   "cell_type": "code",
   "execution_count": 28,
   "metadata": {},
   "outputs": [],
   "source": [
    "###########################################################################################################\n",
    "def usuario_genero(genero):\n",
    "    usuario = user_genre[user_genre['genres'].apply(lambda x: genero in x)]\n",
    "\n",
    "    usuario.drop(['genres','release_year'], axis=1, inplace=True)\n",
    "\n",
    "    usuario = usuario.groupby(['user_id']).sum().reset_index()\n",
    "\n",
    "    usuario = usuario[usuario['playtime_forever']==usuario['playtime_forever'].max()]\n",
    "    return usuario['user_id'].iloc[0]\n",
    "\n",
    "\n",
    "lista = []\n",
    "for genre in generos:\n",
    "    lista.append(usuario_genero(genre))\n",
    "###########################################################################################################"
   ]
  },
  {
   "cell_type": "markdown",
   "metadata": {},
   "source": [
    "**por ultimo guardamos el resultado de los usuarios**"
   ]
  },
  {
   "cell_type": "code",
   "execution_count": null,
   "metadata": {},
   "outputs": [],
   "source": [
    "user_genre.to_parquet('../consultas/user_for_genre.parquet')"
   ]
  },
  {
   "cell_type": "markdown",
   "metadata": {},
   "source": [
    "*-----------------------------------------------------------------------------------------------------------------------------------*\n",
    "\n",
    "*------------------------------------------------UsersRecommend--------------------------------------------------------------------*\n"
   ]
  },
  {
   "cell_type": "code",
   "execution_count": 109,
   "metadata": {},
   "outputs": [],
   "source": [
    "\n",
    "reviews = pd.read_parquet('../etl/datos/reviews.parquet')"
   ]
  },
  {
   "cell_type": "code",
   "execution_count": 110,
   "metadata": {},
   "outputs": [
    {
     "name": "stdout",
     "output_type": "stream",
     "text": [
      "<class 'pandas.core.frame.DataFrame'>\n",
      "RangeIndex: 48326 entries, 0 to 48325\n",
      "Data columns (total 5 columns):\n",
      " #   Column              Non-Null Count  Dtype \n",
      "---  ------              --------------  ----- \n",
      " 0   user_id             48326 non-null  object\n",
      " 1   item_id             48326 non-null  int64 \n",
      " 2   recommend           48326 non-null  bool  \n",
      " 3   year_posted         48326 non-null  int64 \n",
      " 4   sentiment_analysis  48326 non-null  int64 \n",
      "dtypes: bool(1), int64(3), object(1)\n",
      "memory usage: 1.5+ MB\n"
     ]
    }
   ],
   "source": [
    "reviews.info()"
   ]
  },
  {
   "cell_type": "code",
   "execution_count": 34,
   "metadata": {},
   "outputs": [
    {
     "data": {
      "text/plain": [
       "recommend\n",
       "True     43535\n",
       "False     4791\n",
       "Name: count, dtype: int64"
      ]
     },
     "execution_count": 34,
     "metadata": {},
     "output_type": "execute_result"
    }
   ],
   "source": [
    "reviews['recommend'].value_counts()"
   ]
  },
  {
   "cell_type": "code",
   "execution_count": 111,
   "metadata": {},
   "outputs": [],
   "source": [
    "game = games[['id','title']]\n",
    "reviews = reviews.merge(game,left_on='item_id', right_on='id')\n",
    "reviews.drop(['item_id','id'],axis=1,inplace=True)\n",
    "reviews['recommend'] = reviews['recommend'].astype(int)"
   ]
  },
  {
   "cell_type": "markdown",
   "metadata": {},
   "source": [
    "**recommend**"
   ]
  },
  {
   "cell_type": "markdown",
   "metadata": {},
   "source": [
    "+ *filtramos las reseñas positivas= 2 y neutras= 0*\n",
    "+ *filtramos donde recommend = true*"
   ]
  },
  {
   "cell_type": "code",
   "execution_count": 36,
   "metadata": {},
   "outputs": [
    {
     "data": {
      "text/plain": [
       "(32780, 3)"
      ]
     },
     "execution_count": 36,
     "metadata": {},
     "output_type": "execute_result"
    }
   ],
   "source": [
    "recommend = reviews[(reviews['sentiment_analysis']==2) | (reviews['sentiment_analysis']==1)]\n",
    "recommend = recommend[recommend['recommend']==1]\n",
    "recommend.drop(['sentiment_analysis','user_id'],axis=1,inplace=True)\n",
    "recommend.shape"
   ]
  },
  {
   "cell_type": "code",
   "execution_count": 37,
   "metadata": {},
   "outputs": [],
   "source": [
    "recommend.to_parquet('../consultas/users_recommend.parquet')"
   ]
  },
  {
   "cell_type": "markdown",
   "metadata": {},
   "source": [
    "*-------------------------------------------------------------------------------------------------------------------------------------*\n",
    "\n",
    "*------------------------------------------------UsersNotRecommend--------------------------------------------------------------------*"
   ]
  },
  {
   "cell_type": "markdown",
   "metadata": {},
   "source": [
    "+ *filtramos las reseñas negativas= 0* *una vez filtradas procedemos a convertir los 0 en uno de la columna 'recommend', para poder hacer un conteo de cuantas veces aparece*\n"
   ]
  },
  {
   "cell_type": "code",
   "execution_count": 90,
   "metadata": {},
   "outputs": [
    {
     "data": {
      "text/plain": [
       "(1618, 3)"
      ]
     },
     "execution_count": 90,
     "metadata": {},
     "output_type": "execute_result"
    }
   ],
   "source": [
    "not_recommend = reviews[(reviews['sentiment_analysis']==0)&(reviews['recommend']==0)]\n",
    "not_recommend = not_recommend.drop(['sentiment_analysis','user_id'],axis=1)\n",
    "not_recommend['recommend'] = not_recommend['recommend'].replace(0,1)\n",
    "not_recommend.rename(columns={'recommend':'not_recommend'},inplace=True)\n",
    "not_recommend.shape"
   ]
  },
  {
   "cell_type": "code",
   "execution_count": 77,
   "metadata": {},
   "outputs": [],
   "source": [
    "not_recommend.to_parquet('../consultas/users_not_recommend.parquet')"
   ]
  },
  {
   "cell_type": "markdown",
   "metadata": {},
   "source": [
    "*--------------------------------------------------------------------------------------------------------------------------------------*\n",
    "\n",
    "*------------------------------------------------Sentiment Analysis--------------------------------------------------------------------*"
   ]
  },
  {
   "cell_type": "markdown",
   "metadata": {},
   "source": [
    "+ *quitamos columnas que no aportan relevancia a la funcion*\n",
    "+ *utilizamos la columna recommend para pasar todos a 1 y poder realizar un conteo en la funcion*"
   ]
  },
  {
   "cell_type": "code",
   "execution_count": 117,
   "metadata": {},
   "outputs": [
    {
     "data": {
      "text/plain": [
       "recommend\n",
       "1    41103\n",
       "Name: count, dtype: int64"
      ]
     },
     "execution_count": 117,
     "metadata": {},
     "output_type": "execute_result"
    }
   ],
   "source": [
    "sentiment_analysis = reviews.drop(['user_id','title'],axis=1)\n",
    "sentiment_analysis['recommend'] = sentiment_analysis['recommend'].replace(0,1)\n",
    "sentiment_analysis['recommend'].value_counts()"
   ]
  },
  {
   "cell_type": "code",
   "execution_count": 113,
   "metadata": {},
   "outputs": [],
   "source": [
    "sentiment_analysis.to_parquet('../consultas/sentiment_analysis.parquet')"
   ]
  }
 ],
 "metadata": {
  "kernelspec": {
   "display_name": "env",
   "language": "python",
   "name": "python3"
  },
  "language_info": {
   "codemirror_mode": {
    "name": "ipython",
    "version": 3
   },
   "file_extension": ".py",
   "mimetype": "text/x-python",
   "name": "python",
   "nbconvert_exporter": "python",
   "pygments_lexer": "ipython3",
   "version": "3.11.2"
  }
 },
 "nbformat": 4,
 "nbformat_minor": 2
}
