{
 "cells": [
  {
   "cell_type": "code",
   "execution_count": 44,
   "metadata": {},
   "outputs": [
    {
     "name": "stdout",
     "output_type": "stream",
     "text": [
      "el porcentaje de datos nulos en la columna  user_id  es del  0.0 %\n",
      "el porcentaje de datos nulos en la columna  item_id  es del  0.0 %\n",
      "el porcentaje de datos nulos en la columna  item_name  es del  0.0 %\n",
      "el porcentaje de datos nulos en la columna  playtime_forever  es del  0.0 %\n",
      "el porcentaje de datos nulos en la columna  playtime_2weeks  es del  0.0 %\n",
      "-------------------------------------------------------------------------------------------\n"
     ]
    }
   ],
   "source": [
    "import pandas as pd\n",
    "import funciones_etl as etl\n",
    "\n",
    "items = pd.read_parquet('datos/items.parquet')\n",
    "etl.CalcularNulos(items)"
   ]
  },
  {
   "cell_type": "code",
   "execution_count": 45,
   "metadata": {},
   "outputs": [
    {
     "data": {
      "text/html": [
       "<div>\n",
       "<style scoped>\n",
       "    .dataframe tbody tr th:only-of-type {\n",
       "        vertical-align: middle;\n",
       "    }\n",
       "\n",
       "    .dataframe tbody tr th {\n",
       "        vertical-align: top;\n",
       "    }\n",
       "\n",
       "    .dataframe thead th {\n",
       "        text-align: right;\n",
       "    }\n",
       "</style>\n",
       "<table border=\"1\" class=\"dataframe\">\n",
       "  <thead>\n",
       "    <tr style=\"text-align: right;\">\n",
       "      <th></th>\n",
       "      <th>user_id</th>\n",
       "      <th>item_id</th>\n",
       "      <th>item_name</th>\n",
       "      <th>playtime_forever</th>\n",
       "      <th>playtime_2weeks</th>\n",
       "    </tr>\n",
       "  </thead>\n",
       "  <tbody>\n",
       "  </tbody>\n",
       "</table>\n",
       "</div>"
      ],
      "text/plain": [
       "Empty DataFrame\n",
       "Columns: [user_id, item_id, item_name, playtime_forever, playtime_2weeks]\n",
       "Index: []"
      ]
     },
     "execution_count": 45,
     "metadata": {},
     "output_type": "execute_result"
    }
   ],
   "source": [
    "condicion = items['playtime_forever']==0.0\n",
    "sin_jugar =  items[condicion]\n",
    "sin_jugar.head(20)"
   ]
  },
  {
   "cell_type": "markdown",
   "metadata": {},
   "source": [
    "+ **1. eliminamos los datos donde existan usuarios que no hayan jugado a ningun juego ya que no aportan nada al analisis**\n",
    "+ **2. se eliminan los juegos que tienen playtime_forever = 0.0, es decir que nunca se han jugado por la misma razon**\n"
   ]
  },
  {
   "cell_type": "code",
   "execution_count": 46,
   "metadata": {},
   "outputs": [
    {
     "name": "stdout",
     "output_type": "stream",
     "text": [
      "<class 'pandas.core.frame.DataFrame'>\n",
      "RangeIndex: 3285246 entries, 0 to 3285245\n",
      "Data columns (total 5 columns):\n",
      " #   Column            Dtype  \n",
      "---  ------            -----  \n",
      " 0   user_id           object \n",
      " 1   item_id           int64  \n",
      " 2   item_name         object \n",
      " 3   playtime_forever  float64\n",
      " 4   playtime_2weeks   float64\n",
      "dtypes: float64(2), int64(1), object(2)\n",
      "memory usage: 125.3+ MB\n"
     ]
    }
   ],
   "source": [
    "items = items.dropna(subset=['item_id'])\n",
    "items.drop(items[condicion].index,inplace=True)\n",
    "items.info()"
   ]
  },
  {
   "cell_type": "markdown",
   "metadata": {},
   "source": [
    "* item_id deberia ser dato int"
   ]
  },
  {
   "cell_type": "code",
   "execution_count": 47,
   "metadata": {},
   "outputs": [
    {
     "name": "stdout",
     "output_type": "stream",
     "text": [
      "<class 'pandas.core.frame.DataFrame'>\n",
      "RangeIndex: 3285246 entries, 0 to 3285245\n",
      "Data columns (total 5 columns):\n",
      " #   Column            Dtype  \n",
      "---  ------            -----  \n",
      " 0   user_id           object \n",
      " 1   item_id           int64  \n",
      " 2   item_name         object \n",
      " 3   playtime_forever  float64\n",
      " 4   playtime_2weeks   float64\n",
      "dtypes: float64(2), int64(1), object(2)\n",
      "memory usage: 125.3+ MB\n"
     ]
    }
   ],
   "source": [
    "items['item_id'] = items['item_id'].astype(int)\n",
    "\n",
    "items.info()"
   ]
  },
  {
   "cell_type": "code",
   "execution_count": 48,
   "metadata": {},
   "outputs": [
    {
     "data": {
      "text/plain": [
       "(3285246, 5)"
      ]
     },
     "execution_count": 48,
     "metadata": {},
     "output_type": "execute_result"
    }
   ],
   "source": [
    "items.shape"
   ]
  },
  {
   "cell_type": "code",
   "execution_count": 49,
   "metadata": {},
   "outputs": [],
   "source": [
    "items.to_parquet('datos/items.parquet',index=False)"
   ]
  }
 ],
 "metadata": {
  "kernelspec": {
   "display_name": "env",
   "language": "python",
   "name": "python3"
  },
  "language_info": {
   "codemirror_mode": {
    "name": "ipython",
    "version": 3
   },
   "file_extension": ".py",
   "mimetype": "text/x-python",
   "name": "python",
   "nbconvert_exporter": "python",
   "pygments_lexer": "ipython3",
   "version": "3.11.2"
  }
 },
 "nbformat": 4,
 "nbformat_minor": 2
}
