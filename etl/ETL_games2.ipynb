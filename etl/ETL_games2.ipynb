{
 "cells": [
  {
   "cell_type": "markdown",
   "metadata": {},
   "source": [
    "**ETL 2**"
   ]
  },
  {
   "cell_type": "code",
   "execution_count": 2,
   "metadata": {},
   "outputs": [],
   "source": [
    "import pandas as pd\n",
    "import re"
   ]
  },
  {
   "cell_type": "markdown",
   "metadata": {},
   "source": [
    "*---------------------------------------------------------------------games.csv---------------------------------------------------------------------*"
   ]
  },
  {
   "cell_type": "markdown",
   "metadata": {},
   "source": [
    "1. importamos los datos de games y analizamos sus columnas y el tipo de datos que tienen"
   ]
  },
  {
   "cell_type": "code",
   "execution_count": 8,
   "metadata": {},
   "outputs": [],
   "source": [
    "games = pd.read_parquet('datos/games.parquet')"
   ]
  },
  {
   "cell_type": "code",
   "execution_count": 3,
   "metadata": {},
   "outputs": [],
   "source": [
    "games.describe(include='all')"
   ]
  },
  {
   "cell_type": "code",
   "execution_count": 4,
   "metadata": {},
   "outputs": [
    {
     "name": "stdout",
     "output_type": "stream",
     "text": [
      "<class 'pandas.core.frame.DataFrame'>\n",
      "RangeIndex: 29830 entries, 0 to 29829\n",
      "Data columns (total 4 columns):\n",
      " #   Column        Non-Null Count  Dtype \n",
      "---  ------        --------------  ----- \n",
      " 0   genres        29830 non-null  object\n",
      " 1   title         29830 non-null  object\n",
      " 2   id            29830 non-null  int64 \n",
      " 3   release_year  29830 non-null  object\n",
      "dtypes: int64(1), object(3)\n",
      "memory usage: 932.3+ KB\n"
     ]
    }
   ],
   "source": [
    "games.info()"
   ]
  },
  {
   "cell_type": "markdown",
   "metadata": {},
   "source": [
    "puedo verificar que tengo datos **NaN** que puedo imputar gracias a la columna url, en esta se contiene el dato del 'id' y el de 'title'"
   ]
  },
  {
   "cell_type": "markdown",
   "metadata": {},
   "source": [
    "*info() revela que el id esta mal registrado, tras la inputacion de los datos faltantes se debe convertir a datos INT*"
   ]
  },
  {
   "cell_type": "code",
   "execution_count": null,
   "metadata": {},
   "outputs": [],
   "source": [
    "pruebas = games[['url','id','title']]\n",
    "id_nulo = pruebas[pruebas['id'].isna()]\n",
    "print(id_nulo)\n",
    "title_nulo = pruebas[pruebas['title'].isna()]\n",
    "print('-----------------------------------------------------------------------------------------------------------')\n",
    "print(title_nulo)\n"
   ]
  },
  {
   "cell_type": "code",
   "execution_count": 6,
   "metadata": {},
   "outputs": [
    {
     "name": "stdout",
     "output_type": "stream",
     "text": [
      "genres          [Action, Open World, Batman, Adventure, Stealt...\n",
      "title              Batman: Arkham City - Game of the Year Edition\n",
      "id                                                         200260\n",
      "release_year                                                 2012\n",
      "Name: 28700, dtype: object\n",
      "genres          [Action, Indie]\n",
      "title                   Unknown\n",
      "id                       317160\n",
      "release_year               2014\n",
      "Name: 2540, dtype: object\n"
     ]
    }
   ],
   "source": [
    "print(games.loc[28700])\n",
    "print(games.loc[2540])"
   ]
  },
  {
   "cell_type": "markdown",
   "metadata": {},
   "source": [
    "se asigna unknown para la fila ya que aun aporta valor para la columna \"genres\""
   ]
  },
  {
   "cell_type": "code",
   "execution_count": 7,
   "metadata": {},
   "outputs": [],
   "source": [
    "games.loc[2540,'title'] = 'Unknown'"
   ]
  },
  {
   "cell_type": "code",
   "execution_count": 8,
   "metadata": {},
   "outputs": [],
   "source": [
    "def Imputar_Id(columna):\n",
    "    indice = games[games[columna].isnull()].index\n",
    "    for i in indice:\n",
    "        url = games['url'][i]\n",
    "        match = re.search(r\"http://store.steampowered.com/app/(\\d+)\", url)\n",
    "        \n",
    "        if match:\n",
    "            id = match.group(1)\n",
    "            #debido al warning se hace cast() a la variable id para inputarlo con la columna 'id' dtype=float\n",
    "            games.loc[indice,columna] = float(id)\n",
    "        else:\n",
    "            print(\"No se pudo extraer ID y TITLE de la URL.\")\n",
    "\n",
    "    "
   ]
  },
  {
   "cell_type": "markdown",
   "metadata": {},
   "source": [
    "+ se utiliza la funcion para imputar el valor faltante y se convierte la columna a tipo INT\n",
    "+ ya extraido el dato id , se elimina la columna url"
   ]
  },
  {
   "cell_type": "code",
   "execution_count": null,
   "metadata": {},
   "outputs": [],
   "source": [
    "Imputar_Id('id')\n",
    "games['id'] = games['id'].astype(int)\n",
    "games = games.drop('url',axis=1)\n",
    "games.info()"
   ]
  },
  {
   "cell_type": "markdown",
   "metadata": {},
   "source": [
    "se borra las fechas de lanzamiento, ya no sera util para la primera funcion"
   ]
  },
  {
   "cell_type": "code",
   "execution_count": null,
   "metadata": {},
   "outputs": [],
   "source": [
    "games = games.drop('release_date',axis=1)\n",
    "games.rename(columns={'id':'item_id'},inplace=True)\n",
    "games.head()"
   ]
  },
  {
   "cell_type": "code",
   "execution_count": 10,
   "metadata": {},
   "outputs": [],
   "source": [
    "games = games.drop_duplicates(subset='title')"
   ]
  },
  {
   "cell_type": "code",
   "execution_count": 12,
   "metadata": {},
   "outputs": [],
   "source": [
    "games.to_parquet('datos/games.parquet',index=False)"
   ]
  }
 ],
 "metadata": {
  "kernelspec": {
   "display_name": "env",
   "language": "python",
   "name": "python3"
  },
  "language_info": {
   "codemirror_mode": {
    "name": "ipython",
    "version": 3
   },
   "file_extension": ".py",
   "mimetype": "text/x-python",
   "name": "python",
   "nbconvert_exporter": "python",
   "pygments_lexer": "ipython3",
   "version": "3.11.2"
  }
 },
 "nbformat": 4,
 "nbformat_minor": 2
}
