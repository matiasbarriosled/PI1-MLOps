{
 "cells": [
  {
   "cell_type": "code",
   "execution_count": 113,
   "metadata": {},
   "outputs": [],
   "source": [
    "import pandas as pd\n",
    "import funciones_etl\n",
    "etl = funciones_etl\n",
    "import re"
   ]
  },
  {
   "cell_type": "code",
   "execution_count": 114,
   "metadata": {},
   "outputs": [],
   "source": [
    "games = etl.Cargar_a_Dataframe('datos_originales/steam_games.json.gz','rt')"
   ]
  },
  {
   "cell_type": "markdown",
   "metadata": {},
   "source": [
    "*con la funcion CalcularNulos creada en el modulo de funciones_etl.py se puede visualizar el porcentaje de valores faltantes de cada columna de los* **dataframes**"
   ]
  },
  {
   "cell_type": "code",
   "execution_count": 115,
   "metadata": {},
   "outputs": [
    {
     "name": "stdout",
     "output_type": "stream",
     "text": [
      "el porcentaje de datos nulos en la columna  publisher  es del  80.0 %\n",
      "el porcentaje de datos nulos en la columna  genres  es del  76.0 %\n",
      "el porcentaje de datos nulos en la columna  app_name  es del  73.3 %\n",
      "el porcentaje de datos nulos en la columna  title  es del  75.0 %\n",
      "el porcentaje de datos nulos en la columna  url  es del  73.3 %\n",
      "el porcentaje de datos nulos en la columna  release_date  es del  75.0 %\n",
      "el porcentaje de datos nulos en la columna  tags  es del  73.5 %\n",
      "el porcentaje de datos nulos en la columna  reviews_url  es del  73.3 %\n",
      "el porcentaje de datos nulos en la columna  specs  es del  73.9 %\n",
      "el porcentaje de datos nulos en la columna  price  es del  74.5 %\n",
      "el porcentaje de datos nulos en la columna  early_access  es del  73.3 %\n",
      "el porcentaje de datos nulos en la columna  id  es del  73.3 %\n",
      "el porcentaje de datos nulos en la columna  developer  es del  76.1 %\n",
      "-------------------------------------------------------------------------------------------\n"
     ]
    }
   ],
   "source": [
    "etl.CalcularNulos(games)"
   ]
  },
  {
   "cell_type": "markdown",
   "metadata": {},
   "source": [
    "1. *Se procede a eliminar las filas que estan completamente vacias del* **'df_steam'**\n",
    "2. *se comprueba nuevamente el porcentaje de datos nulos*\n"
   ]
  },
  {
   "cell_type": "code",
   "execution_count": 116,
   "metadata": {},
   "outputs": [
    {
     "name": "stdout",
     "output_type": "stream",
     "text": [
      "el porcentaje de datos nulos en la columna  publisher  es del  25.1 %\n",
      "el porcentaje de datos nulos en la columna  genres  es del  10.2 %\n",
      "el porcentaje de datos nulos en la columna  app_name  es del  0.0 %\n",
      "el porcentaje de datos nulos en la columna  title  es del  6.4 %\n",
      "el porcentaje de datos nulos en la columna  url  es del  0.0 %\n",
      "el porcentaje de datos nulos en la columna  release_date  es del  6.4 %\n",
      "el porcentaje de datos nulos en la columna  tags  es del  0.5 %\n",
      "el porcentaje de datos nulos en la columna  reviews_url  es del  0.0 %\n",
      "el porcentaje de datos nulos en la columna  specs  es del  2.1 %\n",
      "el porcentaje de datos nulos en la columna  price  es del  4.3 %\n",
      "el porcentaje de datos nulos en la columna  early_access  es del  0.0 %\n",
      "el porcentaje de datos nulos en la columna  id  es del  0.0 %\n",
      "el porcentaje de datos nulos en la columna  developer  es del  10.3 %\n",
      "-------------------------------------------------------------------------------------------\n"
     ]
    }
   ],
   "source": [
    "\n",
    "games = games.dropna(how='all')\n",
    "\n",
    "etl.CalcularNulos(games)"
   ]
  },
  {
   "cell_type": "markdown",
   "metadata": {},
   "source": [
    "1. Se utiliza la funcion isin() de pandas para verificar cuantas coincidencias hay entre columnas\n",
    "2. con value_counts se contabilizara la cantidad de valores que coinciden(True) y cuantos no(False)"
   ]
  },
  {
   "cell_type": "code",
   "execution_count": 117,
   "metadata": {},
   "outputs": [
    {
     "name": "stdout",
     "output_type": "stream",
     "text": [
      "genres\n",
      "True     27447\n",
      "False     4688\n",
      "Name: count, dtype: int64\n"
     ]
    },
    {
     "name": "stdout",
     "output_type": "stream",
     "text": [
      "app_name\n",
      "True     29538\n",
      "False     2597\n",
      "Name: count, dtype: int64\n"
     ]
    }
   ],
   "source": [
    "print(games['genres'].isin(games['tags']).value_counts())\n",
    "print(games['app_name'].isin(games['title']).value_counts())"
   ]
  },
  {
   "cell_type": "markdown",
   "metadata": {},
   "source": [
    "Procedo a rellenar los espacios vacios de las columnas con menos datos"
   ]
  },
  {
   "cell_type": "code",
   "execution_count": 118,
   "metadata": {},
   "outputs": [],
   "source": [
    "games['genres'] = games['tags'].fillna(games['genres'])\n",
    "games['title'] = games['app_name'].fillna(games['title'])"
   ]
  },
  {
   "cell_type": "markdown",
   "metadata": {},
   "source": [
    "por ultimo para que queden balanceadas, el mismo procedimiento pero a la inversa"
   ]
  },
  {
   "cell_type": "code",
   "execution_count": 119,
   "metadata": {},
   "outputs": [],
   "source": [
    "games['tags'] = games['genres'].fillna(games['tags'])\n",
    "games['app_name'] = games['title'].fillna(games['app_name'])"
   ]
  },
  {
   "cell_type": "markdown",
   "metadata": {},
   "source": [
    "* *Cosas a tener en cuenta, title|app_name , tags|genres y developer|publisher, son columnas que comparten los mismos datos, por lo que ya no es necesaria que esten ambos, por lo que se procede a eliminar una de las dos*\n",
    "\n",
    "*se conservara la columna* **Title** *y* **genres** *de momento*"
   ]
  },
  {
   "cell_type": "code",
   "execution_count": 120,
   "metadata": {},
   "outputs": [
    {
     "name": "stdout",
     "output_type": "stream",
     "text": [
      "<class 'pandas.core.frame.DataFrame'>\n",
      "Index: 32135 entries, 88310 to 120444\n",
      "Data columns (total 9 columns):\n",
      " #   Column        Non-Null Count  Dtype \n",
      "---  ------        --------------  ----- \n",
      " 0   genres        31996 non-null  object\n",
      " 1   title         32133 non-null  object\n",
      " 2   url           32135 non-null  object\n",
      " 3   release_date  30068 non-null  object\n",
      " 4   reviews_url   32133 non-null  object\n",
      " 5   specs         31465 non-null  object\n",
      " 6   price         30758 non-null  object\n",
      " 7   early_access  32135 non-null  object\n",
      " 8   id            32133 non-null  object\n",
      "dtypes: object(9)\n",
      "memory usage: 2.5+ MB\n"
     ]
    }
   ],
   "source": [
    "games = games.drop(['publisher','app_name','tags','developer'],axis=1)\n",
    "games.info()"
   ]
  },
  {
   "cell_type": "markdown",
   "metadata": {},
   "source": [
    "*se quitan columnas no relevantes que no apuntan al objetivo del proyecto*"
   ]
  },
  {
   "cell_type": "code",
   "execution_count": 121,
   "metadata": {},
   "outputs": [
    {
     "data": {
      "text/html": [
       "<div>\n",
       "<style scoped>\n",
       "    .dataframe tbody tr th:only-of-type {\n",
       "        vertical-align: middle;\n",
       "    }\n",
       "\n",
       "    .dataframe tbody tr th {\n",
       "        vertical-align: top;\n",
       "    }\n",
       "\n",
       "    .dataframe thead th {\n",
       "        text-align: right;\n",
       "    }\n",
       "</style>\n",
       "<table border=\"1\" class=\"dataframe\">\n",
       "  <thead>\n",
       "    <tr style=\"text-align: right;\">\n",
       "      <th></th>\n",
       "      <th>genres</th>\n",
       "      <th>title</th>\n",
       "      <th>url</th>\n",
       "      <th>release_date</th>\n",
       "      <th>id</th>\n",
       "    </tr>\n",
       "  </thead>\n",
       "  <tbody>\n",
       "    <tr>\n",
       "      <th>88310</th>\n",
       "      <td>[Strategy, Action, Indie, Casual, Simulation]</td>\n",
       "      <td>Lost Summoner Kitty</td>\n",
       "      <td>http://store.steampowered.com/app/761140/Lost_...</td>\n",
       "      <td>2018-01-04</td>\n",
       "      <td>761140</td>\n",
       "    </tr>\n",
       "    <tr>\n",
       "      <th>88311</th>\n",
       "      <td>[Free to Play, Strategy, Indie, RPG, Card Game...</td>\n",
       "      <td>Ironbound</td>\n",
       "      <td>http://store.steampowered.com/app/643980/Ironb...</td>\n",
       "      <td>2018-01-04</td>\n",
       "      <td>643980</td>\n",
       "    </tr>\n",
       "    <tr>\n",
       "      <th>88312</th>\n",
       "      <td>[Free to Play, Simulation, Sports, Casual, Ind...</td>\n",
       "      <td>Real Pool 3D - Poolians</td>\n",
       "      <td>http://store.steampowered.com/app/670290/Real_...</td>\n",
       "      <td>2017-07-24</td>\n",
       "      <td>670290</td>\n",
       "    </tr>\n",
       "    <tr>\n",
       "      <th>88313</th>\n",
       "      <td>[Action, Adventure, Casual]</td>\n",
       "      <td>弹炸人2222</td>\n",
       "      <td>http://store.steampowered.com/app/767400/2222/</td>\n",
       "      <td>2017-12-07</td>\n",
       "      <td>767400</td>\n",
       "    </tr>\n",
       "    <tr>\n",
       "      <th>88314</th>\n",
       "      <td>[Action, Indie, Casual, Sports]</td>\n",
       "      <td>Log Challenge</td>\n",
       "      <td>http://store.steampowered.com/app/773570/Log_C...</td>\n",
       "      <td>NaN</td>\n",
       "      <td>773570</td>\n",
       "    </tr>\n",
       "    <tr>\n",
       "      <th>88315</th>\n",
       "      <td>[Action, Adventure, Simulation, FPS, Shooter, ...</td>\n",
       "      <td>Battle Royale Trainer</td>\n",
       "      <td>http://store.steampowered.com/app/772540/Battl...</td>\n",
       "      <td>2018-01-04</td>\n",
       "      <td>772540</td>\n",
       "    </tr>\n",
       "    <tr>\n",
       "      <th>88316</th>\n",
       "      <td>[Free to Play, Indie, Simulation, Sports]</td>\n",
       "      <td>SNOW - All Access Basic Pass</td>\n",
       "      <td>http://store.steampowered.com/app/774276/SNOW_...</td>\n",
       "      <td>2018-01-04</td>\n",
       "      <td>774276</td>\n",
       "    </tr>\n",
       "    <tr>\n",
       "      <th>88317</th>\n",
       "      <td>[Free to Play, Indie, Simulation, Sports]</td>\n",
       "      <td>SNOW - All Access Pro Pass</td>\n",
       "      <td>http://store.steampowered.com/app/774277/SNOW_...</td>\n",
       "      <td>2018-01-04</td>\n",
       "      <td>774277</td>\n",
       "    </tr>\n",
       "    <tr>\n",
       "      <th>88318</th>\n",
       "      <td>[Free to Play, Indie, Simulation, Sports]</td>\n",
       "      <td>SNOW - All Access Legend Pass</td>\n",
       "      <td>http://store.steampowered.com/app/774278/SNOW_...</td>\n",
       "      <td>2018-01-04</td>\n",
       "      <td>774278</td>\n",
       "    </tr>\n",
       "    <tr>\n",
       "      <th>88319</th>\n",
       "      <td>[Indie, Casual, Simulation, Racing]</td>\n",
       "      <td>Race</td>\n",
       "      <td>http://store.steampowered.com/app/768800/Race/</td>\n",
       "      <td>2018-01-04</td>\n",
       "      <td>768800</td>\n",
       "    </tr>\n",
       "    <tr>\n",
       "      <th>88320</th>\n",
       "      <td>[Early Access, Action, Indie, Simulation, Surv...</td>\n",
       "      <td>Uncanny Islands</td>\n",
       "      <td>http://store.steampowered.com/app/768570/Uncan...</td>\n",
       "      <td>Soon..</td>\n",
       "      <td>768570</td>\n",
       "    </tr>\n",
       "    <tr>\n",
       "      <th>88321</th>\n",
       "      <td>[Casual]</td>\n",
       "      <td>Icarus Six Sixty Six</td>\n",
       "      <td>http://store.steampowered.com/app/724910/Icaru...</td>\n",
       "      <td>NaN</td>\n",
       "      <td>724910</td>\n",
       "    </tr>\n",
       "  </tbody>\n",
       "</table>\n",
       "</div>"
      ],
      "text/plain": [
       "                                                  genres  \\\n",
       "88310      [Strategy, Action, Indie, Casual, Simulation]   \n",
       "88311  [Free to Play, Strategy, Indie, RPG, Card Game...   \n",
       "88312  [Free to Play, Simulation, Sports, Casual, Ind...   \n",
       "88313                        [Action, Adventure, Casual]   \n",
       "88314                    [Action, Indie, Casual, Sports]   \n",
       "88315  [Action, Adventure, Simulation, FPS, Shooter, ...   \n",
       "88316          [Free to Play, Indie, Simulation, Sports]   \n",
       "88317          [Free to Play, Indie, Simulation, Sports]   \n",
       "88318          [Free to Play, Indie, Simulation, Sports]   \n",
       "88319                [Indie, Casual, Simulation, Racing]   \n",
       "88320  [Early Access, Action, Indie, Simulation, Surv...   \n",
       "88321                                           [Casual]   \n",
       "\n",
       "                               title  \\\n",
       "88310            Lost Summoner Kitty   \n",
       "88311                      Ironbound   \n",
       "88312        Real Pool 3D - Poolians   \n",
       "88313                        弹炸人2222   \n",
       "88314                  Log Challenge   \n",
       "88315          Battle Royale Trainer   \n",
       "88316   SNOW - All Access Basic Pass   \n",
       "88317     SNOW - All Access Pro Pass   \n",
       "88318  SNOW - All Access Legend Pass   \n",
       "88319                           Race   \n",
       "88320                Uncanny Islands   \n",
       "88321           Icarus Six Sixty Six   \n",
       "\n",
       "                                                     url release_date      id  \n",
       "88310  http://store.steampowered.com/app/761140/Lost_...   2018-01-04  761140  \n",
       "88311  http://store.steampowered.com/app/643980/Ironb...   2018-01-04  643980  \n",
       "88312  http://store.steampowered.com/app/670290/Real_...   2017-07-24  670290  \n",
       "88313     http://store.steampowered.com/app/767400/2222/   2017-12-07  767400  \n",
       "88314  http://store.steampowered.com/app/773570/Log_C...          NaN  773570  \n",
       "88315  http://store.steampowered.com/app/772540/Battl...   2018-01-04  772540  \n",
       "88316  http://store.steampowered.com/app/774276/SNOW_...   2018-01-04  774276  \n",
       "88317  http://store.steampowered.com/app/774277/SNOW_...   2018-01-04  774277  \n",
       "88318  http://store.steampowered.com/app/774278/SNOW_...   2018-01-04  774278  \n",
       "88319     http://store.steampowered.com/app/768800/Race/   2018-01-04  768800  \n",
       "88320  http://store.steampowered.com/app/768570/Uncan...       Soon..  768570  \n",
       "88321  http://store.steampowered.com/app/724910/Icaru...          NaN  724910  "
      ]
     },
     "execution_count": 121,
     "metadata": {},
     "output_type": "execute_result"
    }
   ],
   "source": [
    "games = games.drop(['specs','price','early_access','reviews_url'],axis=1)\n",
    "games.head(12)"
   ]
  },
  {
   "cell_type": "markdown",
   "metadata": {},
   "source": [
    "*separamos el dato de año*\n",
    "* En los primeros datos se observa que la columna release_date tiene filas vacias o filas con la etiqueta 'Soon..', para convertir los datos existentes a datetime se necesita verificar bien como estan registrados\n",
    "* Los nulos no hay columnas que puedan ayudarnos a verificar su lanzamiento por lo que procedemos a borrarlos"
   ]
  },
  {
   "cell_type": "code",
   "execution_count": 122,
   "metadata": {},
   "outputs": [
    {
     "data": {
      "text/plain": [
       "88310    2018-01-04\n",
       "88311    2018-01-04\n",
       "88312    2017-07-24\n",
       "88313    2017-12-07\n",
       "88315    2018-01-04\n",
       "88316    2018-01-04\n",
       "88317    2018-01-04\n",
       "88318    2018-01-04\n",
       "88319    2018-01-04\n",
       "88320        Soon..\n",
       "Name: release_date, dtype: object"
      ]
     },
     "execution_count": 122,
     "metadata": {},
     "output_type": "execute_result"
    }
   ],
   "source": [
    "games.dropna(subset=['release_date','genres'],inplace=True)\n",
    "games['release_date'].head(10)"
   ]
  },
  {
   "cell_type": "markdown",
   "metadata": {},
   "source": [
    "filtramos las fechas que contengan el año"
   ]
  },
  {
   "cell_type": "code",
   "execution_count": 123,
   "metadata": {},
   "outputs": [
    {
     "name": "stderr",
     "output_type": "stream",
     "text": [
      "/tmp/ipykernel_29823/379112750.py:2: UserWarning: This pattern is interpreted as a regular expression, and has match groups. To actually get the groups, use str.extract.\n",
      "  games = games[games['release_date'].str.contains(fecha_r)]\n"
     ]
    },
    {
     "data": {
      "text/plain": [
       "88310    2018-01-04\n",
       "88311    2018-01-04\n",
       "88312    2017-07-24\n",
       "88313    2017-12-07\n",
       "88315    2018-01-04\n",
       "Name: release_date, dtype: object"
      ]
     },
     "execution_count": 123,
     "metadata": {},
     "output_type": "execute_result"
    }
   ],
   "source": [
    "fecha_r = r\"(\\d{4})\"\n",
    "games = games[games['release_date'].str.contains(fecha_r)]\n",
    "games['release_date'].head()"
   ]
  },
  {
   "cell_type": "markdown",
   "metadata": {},
   "source": [
    "por ultimo se extrae el dato AÑO del string"
   ]
  },
  {
   "cell_type": "code",
   "execution_count": 124,
   "metadata": {},
   "outputs": [],
   "source": [
    "games['release_year'] = games['release_date'].str.extract(fecha_r)"
   ]
  },
  {
   "cell_type": "code",
   "execution_count": 125,
   "metadata": {},
   "outputs": [
    {
     "name": "stdout",
     "output_type": "stream",
     "text": [
      "el porcentaje de datos nulos en la columna  genres  es del  0.0 %\n",
      "el porcentaje de datos nulos en la columna  title  es del  0.0 %\n",
      "el porcentaje de datos nulos en la columna  url  es del  0.0 %\n",
      "el porcentaje de datos nulos en la columna  release_date  es del  0.0 %\n",
      "el porcentaje de datos nulos en la columna  id  es del  0.0 %\n",
      "el porcentaje de datos nulos en la columna  release_year  es del  0.0 %\n",
      "-------------------------------------------------------------------------------------------\n"
     ]
    }
   ],
   "source": [
    "etl.CalcularNulos(games)"
   ]
  },
  {
   "cell_type": "code",
   "execution_count": 126,
   "metadata": {},
   "outputs": [],
   "source": [
    "\n",
    "games.to_parquet('datos/games.parquet',index=False)\n",
    "#df_steam.to_parquet('steam_games.parquet')"
   ]
  }
 ],
 "metadata": {
  "kernelspec": {
   "display_name": "env",
   "language": "python",
   "name": "python3"
  },
  "language_info": {
   "codemirror_mode": {
    "name": "ipython",
    "version": 3
   },
   "file_extension": ".py",
   "mimetype": "text/x-python",
   "name": "python",
   "nbconvert_exporter": "python",
   "pygments_lexer": "ipython3",
   "version": "3.11.2"
  }
 },
 "nbformat": 4,
 "nbformat_minor": 2
}
